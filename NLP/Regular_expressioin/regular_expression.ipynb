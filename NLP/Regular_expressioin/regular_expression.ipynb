{
 "cells": [
  {
   "cell_type": "code",
   "execution_count": 1,
   "metadata": {},
   "outputs": [],
   "source": [
    "import re"
   ]
  },
  {
   "cell_type": "code",
   "execution_count": 6,
   "metadata": {},
   "outputs": [],
   "source": [
    "chat1 = 'Codebasics: you ask lot of questions 1234567912, abc@gmail.com,2351235676'\n",
    "chat2 = 'Codebasics: here it is: (123)-456-7912, abc@gmail.com'\n",
    "chat3 = 'Codebasics: yes, phone: 1234567912,email: abc@gmail.com'"
   ]
  },
  {
   "cell_type": "code",
   "execution_count": 10,
   "metadata": {},
   "outputs": [
    {
     "name": "stderr",
     "output_type": "stream",
     "text": [
      "<>:1: SyntaxWarning: invalid escape sequence '\\d'\n",
      "<>:1: SyntaxWarning: invalid escape sequence '\\d'\n",
      "/tmp/ipykernel_492/963831743.py:1: SyntaxWarning: invalid escape sequence '\\d'\n",
      "  pattern = '\\d{10}|\\(\\d{3}\\)-\\d{3}-\\d{4}'\n"
     ]
    },
    {
     "data": {
      "text/plain": [
       "['1234567912']"
      ]
     },
     "execution_count": 10,
     "metadata": {},
     "output_type": "execute_result"
    }
   ],
   "source": [
    "pattern = '\\d{10}|\\(\\d{3}\\)-\\d{3}-\\d{4}'\n",
    "\n",
    "mathces = re.findall(pattern,chat3)\n",
    "mathces"
   ]
  },
  {
   "cell_type": "code",
   "execution_count": 16,
   "metadata": {},
   "outputs": [
    {
     "name": "stderr",
     "output_type": "stream",
     "text": [
      "<>:1: SyntaxWarning: invalid escape sequence '\\.'\n",
      "<>:1: SyntaxWarning: invalid escape sequence '\\.'\n",
      "/tmp/ipykernel_492/1120783.py:1: SyntaxWarning: invalid escape sequence '\\.'\n",
      "  pattern_email = '[a-z0-9A-Z_]*@[a-z0-9A-Z]*\\.[a-zA-Z]*'\n"
     ]
    },
    {
     "data": {
      "text/plain": [
       "['abc@gmail.com']"
      ]
     },
     "execution_count": 16,
     "metadata": {},
     "output_type": "execute_result"
    }
   ],
   "source": [
    "pattern_email = '[a-z0-9A-Z_]*@[a-z0-9A-Z]*\\.[a-zA-Z]*'\n",
    "\n",
    "mathces_email = re.findall(pattern_email,chat3)\n",
    "mathces_email"
   ]
  },
  {
   "cell_type": "code",
   "execution_count": 19,
   "metadata": {},
   "outputs": [],
   "source": [
    "chat4 = 'codedbaisc: Hello, I am havig an issue with my order # 413464234'\n",
    "chat5 = 'codedbaisc: I have a probledm wiht my order number 413454234'\n",
    "chat6 = 'codedbaisc: My order 433464234 is having an issue, I was charged 300$ when online it syas 200$'"
   ]
  },
  {
   "cell_type": "code",
   "execution_count": 21,
   "metadata": {},
   "outputs": [
    {
     "name": "stderr",
     "output_type": "stream",
     "text": [
      "<>:1: SyntaxWarning: invalid escape sequence '\\d'\n",
      "<>:1: SyntaxWarning: invalid escape sequence '\\d'\n",
      "/tmp/ipykernel_492/4020179918.py:1: SyntaxWarning: invalid escape sequence '\\d'\n",
      "  pattern_order_number ='order[^\\d]*(\\d*)'\n"
     ]
    },
    {
     "data": {
      "text/plain": [
       "['413464234']"
      ]
     },
     "execution_count": 21,
     "metadata": {},
     "output_type": "execute_result"
    }
   ],
   "source": [
    "pattern_order_number ='order[^\\d]*(\\d*)'\n",
    "\n",
    "mached_order = (re.findall(pattern_order_number,chat4))\n",
    "mached_order"
   ]
  },
  {
   "cell_type": "code",
   "execution_count": null,
   "metadata": {},
   "outputs": [],
   "source": []
  }
 ],
 "metadata": {
  "kernelspec": {
   "display_name": ".venv_tf",
   "language": "python",
   "name": "python3"
  },
  "language_info": {
   "codemirror_mode": {
    "name": "ipython",
    "version": 3
   },
   "file_extension": ".py",
   "mimetype": "text/x-python",
   "name": "python",
   "nbconvert_exporter": "python",
   "pygments_lexer": "ipython3",
   "version": "3.12.8"
  }
 },
 "nbformat": 4,
 "nbformat_minor": 2
}
