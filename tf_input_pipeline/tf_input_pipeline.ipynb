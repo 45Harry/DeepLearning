{
 "cells": [
  {
   "cell_type": "markdown",
   "metadata": {},
   "source": [
    "# Tensorflow Input Pipeline\n"
   ]
  },
  {
   "cell_type": "code",
   "execution_count": 1,
   "metadata": {},
   "outputs": [
    {
     "name": "stderr",
     "output_type": "stream",
     "text": [
      "2025-03-14 14:13:01.878017: I tensorflow/core/util/port.cc:153] oneDNN custom operations are on. You may see slightly different numerical results due to floating-point round-off errors from different computation orders. To turn them off, set the environment variable `TF_ENABLE_ONEDNN_OPTS=0`.\n",
      "2025-03-14 14:13:02.031211: E external/local_xla/xla/stream_executor/cuda/cuda_fft.cc:477] Unable to register cuFFT factory: Attempting to register factory for plugin cuFFT when one has already been registered\n",
      "WARNING: All log messages before absl::InitializeLog() is called are written to STDERR\n",
      "E0000 00:00:1741940882.079307     373 cuda_dnn.cc:8310] Unable to register cuDNN factory: Attempting to register factory for plugin cuDNN when one has already been registered\n",
      "E0000 00:00:1741940882.088221     373 cuda_blas.cc:1418] Unable to register cuBLAS factory: Attempting to register factory for plugin cuBLAS when one has already been registered\n",
      "2025-03-14 14:13:02.203889: I tensorflow/core/platform/cpu_feature_guard.cc:210] This TensorFlow binary is optimized to use available CPU instructions in performance-critical operations.\n",
      "To enable the following instructions: AVX2 AVX512F AVX512_VNNI FMA, in other operations, rebuild TensorFlow with the appropriate compiler flags.\n"
     ]
    }
   ],
   "source": [
    "import tensorflow as tf"
   ]
  },
  {
   "cell_type": "code",
   "execution_count": 2,
   "metadata": {},
   "outputs": [],
   "source": [
    "daily_sales_numbers = [21,22,-188,31,-1,32,34,31]"
   ]
  },
  {
   "cell_type": "code",
   "execution_count": 3,
   "metadata": {},
   "outputs": [
    {
     "name": "stderr",
     "output_type": "stream",
     "text": [
      "2025-03-14 14:13:05.758259: E external/local_xla/xla/stream_executor/cuda/cuda_driver.cc:152] failed call to cuInit: INTERNAL: CUDA error: Failed call to cuInit: UNKNOWN ERROR (303)\n"
     ]
    },
    {
     "data": {
      "text/plain": [
       "<_TensorSliceDataset element_spec=TensorSpec(shape=(), dtype=tf.int32, name=None)>"
      ]
     },
     "execution_count": 3,
     "metadata": {},
     "output_type": "execute_result"
    }
   ],
   "source": [
    "tf_dataset = tf.data.Dataset.from_tensor_slices(daily_sales_numbers)\n",
    "tf_dataset"
   ]
  },
  {
   "cell_type": "code",
   "execution_count": 4,
   "metadata": {},
   "outputs": [
    {
     "name": "stdout",
     "output_type": "stream",
     "text": [
      "21\n",
      "22\n",
      "-188\n",
      "31\n",
      "-1\n",
      "32\n",
      "34\n",
      "31\n"
     ]
    },
    {
     "name": "stderr",
     "output_type": "stream",
     "text": [
      "2025-03-14 14:13:05.858662: I tensorflow/core/framework/local_rendezvous.cc:405] Local rendezvous is aborting with status: OUT_OF_RANGE: End of sequence\n"
     ]
    }
   ],
   "source": [
    "for sales in tf_dataset:\n",
    "    print(sales.numpy())"
   ]
  },
  {
   "cell_type": "code",
   "execution_count": 5,
   "metadata": {},
   "outputs": [
    {
     "name": "stdout",
     "output_type": "stream",
     "text": [
      "21\n",
      "22\n",
      "-188\n"
     ]
    },
    {
     "name": "stderr",
     "output_type": "stream",
     "text": [
      "2025-03-14 14:13:05.887032: I tensorflow/core/framework/local_rendezvous.cc:405] Local rendezvous is aborting with status: OUT_OF_RANGE: End of sequence\n"
     ]
    }
   ],
   "source": [
    "for sales in tf_dataset.take(3):\n",
    "    print(sales.numpy())"
   ]
  },
  {
   "cell_type": "code",
   "execution_count": 6,
   "metadata": {},
   "outputs": [
    {
     "name": "stdout",
     "output_type": "stream",
     "text": [
      "21\n",
      "22\n",
      "31\n",
      "32\n",
      "34\n",
      "31\n"
     ]
    }
   ],
   "source": [
    "tf_dataset = tf_dataset.filter(lambda x: x>0)\n",
    "for sales in tf_dataset:\n",
    "    print(sales.numpy())"
   ]
  },
  {
   "cell_type": "code",
   "execution_count": 7,
   "metadata": {},
   "outputs": [
    {
     "name": "stdout",
     "output_type": "stream",
     "text": [
      "1512\n",
      "1584\n",
      "2232\n",
      "2304\n",
      "2448\n",
      "2232\n"
     ]
    },
    {
     "name": "stderr",
     "output_type": "stream",
     "text": [
      "2025-03-14 14:13:05.981378: I tensorflow/core/framework/local_rendezvous.cc:405] Local rendezvous is aborting with status: OUT_OF_RANGE: End of sequence\n"
     ]
    }
   ],
   "source": [
    "tf_dataset = tf_dataset.map(lambda X:X*72)\n",
    "for sales in tf_dataset:\n",
    "    print(sales.numpy())\n"
   ]
  },
  {
   "cell_type": "code",
   "execution_count": 8,
   "metadata": {},
   "outputs": [
    {
     "name": "stdout",
     "output_type": "stream",
     "text": [
      "1512\n",
      "2232\n",
      "2304\n",
      "2448\n",
      "2232\n",
      "1584\n"
     ]
    }
   ],
   "source": [
    "tf_dataset = tf_dataset.shuffle(2)\n",
    "for sales in tf_dataset:\n",
    "    print(sales.numpy())"
   ]
  },
  {
   "cell_type": "code",
   "execution_count": 9,
   "metadata": {},
   "outputs": [
    {
     "name": "stdout",
     "output_type": "stream",
     "text": [
      "[1512 1584]\n",
      "[2304 2448]\n",
      "[2232 2232]\n"
     ]
    }
   ],
   "source": [
    "for sales in tf_dataset.batch(2):\n",
    "    print(sales.numpy())"
   ]
  },
  {
   "cell_type": "code",
   "execution_count": 10,
   "metadata": {},
   "outputs": [
    {
     "name": "stdout",
     "output_type": "stream",
     "text": [
      "[1512 2232]\n",
      "[1584 2304]\n",
      "[2448 2232]\n"
     ]
    }
   ],
   "source": [
    "tf_dataset = tf.data.Dataset.from_tensor_slices(daily_sales_numbers)\n",
    "\n",
    "tf_dataset = tf_dataset.filter(lambda x:x>0).map(lambda y:y*72).shuffle(2).batch(2)\n",
    "for sales in tf_dataset.as_numpy_iterator():\n",
    "    print(sales)"
   ]
  },
  {
   "cell_type": "markdown",
   "metadata": {},
   "source": [
    "## Performing on IMage Dataset"
   ]
  },
  {
   "cell_type": "code",
   "execution_count": 11,
   "metadata": {},
   "outputs": [
    {
     "name": "stdout",
     "output_type": "stream",
     "text": [
      "b'images/Cat/10000.jpg'\n",
      "b'images/Cat/10001.jpg'\n",
      "b'images/Cat/10002.jpg'\n",
      "b'images/Cat/10003.jpg'\n"
     ]
    },
    {
     "name": "stderr",
     "output_type": "stream",
     "text": [
      "2025-03-14 14:13:06.654138: I tensorflow/core/framework/local_rendezvous.cc:405] Local rendezvous is aborting with status: OUT_OF_RANGE: End of sequence\n"
     ]
    }
   ],
   "source": [
    "images_ds = tf.data.Dataset.list_files('images/*/*',shuffle=False)\n",
    "\n",
    "for file in images_ds.take(4):\n",
    "    print(file.numpy())"
   ]
  },
  {
   "cell_type": "code",
   "execution_count": 12,
   "metadata": {},
   "outputs": [
    {
     "name": "stdout",
     "output_type": "stream",
     "text": [
      "b'images/Cat/10069.jpg'\n",
      "b'images/Cat/10040.jpg'\n",
      "b'images/Cat/10032.jpg'\n",
      "b'images/Cat/10062.jpg'\n"
     ]
    }
   ],
   "source": [
    "images_ds = images_ds.shuffle(200)\n",
    "\n",
    "for file in images_ds.take(4):\n",
    "    print(file.numpy())"
   ]
  },
  {
   "cell_type": "code",
   "execution_count": 13,
   "metadata": {},
   "outputs": [],
   "source": [
    "class_names = ['cat','dog']"
   ]
  },
  {
   "cell_type": "code",
   "execution_count": 14,
   "metadata": {},
   "outputs": [
    {
     "data": {
      "text/plain": [
       "22561"
      ]
     },
     "execution_count": 14,
     "metadata": {},
     "output_type": "execute_result"
    }
   ],
   "source": [
    "image_count = len(images_ds)\n",
    "image_count"
   ]
  },
  {
   "cell_type": "code",
   "execution_count": 15,
   "metadata": {},
   "outputs": [],
   "source": [
    "train_size = int(image_count*0.5)\n",
    "train_ds = images_ds.take(train_size)\n",
    "test_ds = images_ds.skip(train_size)"
   ]
  },
  {
   "cell_type": "code",
   "execution_count": 16,
   "metadata": {},
   "outputs": [
    {
     "data": {
      "text/plain": [
       "(11280, 11281)"
      ]
     },
     "execution_count": 16,
     "metadata": {},
     "output_type": "execute_result"
    }
   ],
   "source": [
    "len(train_ds),len(test_ds)"
   ]
  },
  {
   "cell_type": "code",
   "execution_count": 17,
   "metadata": {},
   "outputs": [
    {
     "data": {
      "text/plain": [
       "'Cat'"
      ]
     },
     "execution_count": 17,
     "metadata": {},
     "output_type": "execute_result"
    }
   ],
   "source": [
    "s = 'images/Cat/10119.jpg'\n",
    "s.split(\"/\")[-2]"
   ]
  },
  {
   "cell_type": "code",
   "execution_count": 31,
   "metadata": {},
   "outputs": [],
   "source": [
    "import os\n",
    "def get_label(file_path):\n",
    "    return tf.strings.split(file_path,os.path.sep)[-2]\n",
    "\n",
    "def process_image(file_path):\n",
    "    label = get_label(file_path)\n",
    "\n",
    "    img = tf.io.read_file(file_path)\n",
    "    img = tf.image.decode_jpeg(img)\n",
    "    img = tf.image.resize(img,[128,128])\n",
    "    \n",
    "    return img,label\n"
   ]
  },
  {
   "cell_type": "code",
   "execution_count": 32,
   "metadata": {},
   "outputs": [
    {
     "name": "stdout",
     "output_type": "stream",
     "text": [
      "b'images/Cat/10105.jpg'\n",
      "b'images/Cat/10071.jpg'\n",
      "b'images/Cat/10017.jpg'\n"
     ]
    }
   ],
   "source": [
    "for t in train_ds.take(3):\n",
    "    print(t.numpy())"
   ]
  },
  {
   "cell_type": "code",
   "execution_count": 36,
   "metadata": {},
   "outputs": [
    {
     "name": "stdout",
     "output_type": "stream",
     "text": [
      "Image tf.Tensor(\n",
      "[[[121.78473  161.11285  129.12848 ]\n",
      "  [118.51434  157.51434  129.17584 ]\n",
      "  [116.83203  156.83203  130.83203 ]\n",
      "  ...\n",
      "  [253.02344  245.86328  230.34375 ]\n",
      "  [252.65887  249.66669  237.66669 ]\n",
      "  [252.17578  252.06293  240.17316 ]]\n",
      "\n",
      " [[127.19922  163.1836   137.21484 ]\n",
      "  [121.5509   159.52728  135.54309 ]\n",
      "  [118.86859  156.85297  135.89984 ]\n",
      "  ...\n",
      "  [252.16516  246.1914   232.54297 ]\n",
      "  [254.96088  252.89069  239.39441 ]\n",
      "  [252.49097  248.45972  236.42847 ]]\n",
      "\n",
      " [[126.86896  161.50958  137.1502  ]\n",
      "  [123.640625 158.64062  137.63281 ]\n",
      "  [119.03906  154.96094  137.42291 ]\n",
      "  ...\n",
      "  [255.       252.67969  241.25677 ]\n",
      "  [251.72156  245.72156  232.4403  ]\n",
      "  [253.8736   248.40094  235.11969 ]]\n",
      "\n",
      " ...\n",
      "\n",
      " [[ 60.974792  74.97479  119.97479 ]\n",
      "  [ 66.76422   81.71765  126.39984 ]\n",
      "  [ 65.48462   86.201294 129.04114 ]\n",
      "  ...\n",
      "  [251.05365  246.03516  240.03516 ]\n",
      "  [247.86719  240.50781  235.58594 ]\n",
      "  [245.18573  237.82635  232.90448 ]]\n",
      "\n",
      " [[ 68.64935   82.48401  127.48401 ]\n",
      "  [ 47.101196  64.60504  109.573975]\n",
      "  [ 42.884827  64.20514  109.01373 ]\n",
      "  ...\n",
      "  [245.65344  240.64844  234.64844 ]\n",
      "  [245.96088  238.96088  232.96088 ]\n",
      "  [243.19922  236.19922  230.19922 ]]\n",
      "\n",
      " [[ 93.601135 107.43317  152.43317 ]\n",
      "  [ 84.83215  105.15503  149.14722 ]\n",
      "  [ 63.625     86.625    130.625   ]\n",
      "  ...\n",
      "  [242.83203  239.51172  230.99219 ]\n",
      "  [249.50647  242.50647  236.50647 ]\n",
      "  [247.92145  240.92145  234.92145 ]]], shape=(128, 128, 3), dtype=float32)\n",
      "Label: tf.Tensor(b'Cat', shape=(), dtype=string)\n",
      "Image tf.Tensor(\n",
      "[[[126.       101.        81.      ]\n",
      "  [126.       101.        81.      ]\n",
      "  [126.       101.        81.      ]\n",
      "  ...\n",
      "  [118.        91.        72.      ]\n",
      "  [118.        91.        72.      ]\n",
      "  [116.        91.        69.      ]]\n",
      "\n",
      " [[126.       101.        81.      ]\n",
      "  [126.       101.        81.      ]\n",
      "  [126.       101.        81.      ]\n",
      "  ...\n",
      "  [118.        91.        72.      ]\n",
      "  [118.        91.        72.      ]\n",
      "  [116.        91.        69.      ]]\n",
      "\n",
      " [[126.       101.        81.      ]\n",
      "  [126.       101.        81.      ]\n",
      "  [126.       101.        81.      ]\n",
      "  ...\n",
      "  [118.        91.        72.      ]\n",
      "  [118.        91.        72.      ]\n",
      "  [116.        91.        69.      ]]\n",
      "\n",
      " ...\n",
      "\n",
      " [[182.12585  187.0462   182.38367 ]\n",
      "  [186.23895  191.17578  186.30927 ]\n",
      "  [194.22638  199.17969  194.10919 ]\n",
      "  ...\n",
      "  [100.17578   81.52734   66.25818 ]\n",
      "  [ 99.640625  81.53516   66.35156 ]\n",
      "  [100.17035   80.72504   69.35156 ]]\n",
      "\n",
      " [[183.5586   187.5586   186.5586  ]\n",
      "  [189.68085  193.68085  192.68085 ]\n",
      "  [193.6087   197.6087   196.6087  ]\n",
      "  ...\n",
      "  [102.23895   82.95056   67.496765]\n",
      "  [ 99.0379    80.932434  66.932434]\n",
      "  [103.        81.        70.      ]]\n",
      "\n",
      " [[185.52344  189.52344  188.52344 ]\n",
      "  [187.39453  191.39453  190.39453 ]\n",
      "  [191.93903  195.93903  194.93903 ]\n",
      "  ...\n",
      "  [110.37109   84.31012   68.80469 ]\n",
      "  [104.46484   80.39453   68.359375]\n",
      "  [102.        80.        69.      ]]], shape=(128, 128, 3), dtype=float32)\n",
      "Label: tf.Tensor(b'Cat', shape=(), dtype=string)\n",
      "Image tf.Tensor(\n",
      "[[[213.53732  180.53732  161.53732 ]\n",
      "  [206.50888  173.50888  154.50888 ]\n",
      "  [206.61575  173.61575  154.61575 ]\n",
      "  ...\n",
      "  [102.0625    80.0625    66.0625  ]\n",
      "  [105.51657   83.51657   69.51657 ]\n",
      "  [102.28516   80.28516   66.28516 ]]\n",
      "\n",
      " [[218.00592  185.00592  166.00592 ]\n",
      "  [210.3359   177.3359   158.3359  ]\n",
      "  [205.60773  172.60773  153.60773 ]\n",
      "  ...\n",
      "  [102.344574  80.344574  66.344574]\n",
      "  [106.45703   84.45703   70.45703 ]\n",
      "  [106.52344   84.52344   70.52344 ]]\n",
      "\n",
      " [[216.20258  183.20258  164.20258 ]\n",
      "  [213.0878   180.0878   161.0878  ]\n",
      "  [203.08984  170.08984  151.08984 ]\n",
      "  ...\n",
      "  [102.97128   80.97128   66.97128 ]\n",
      "  [107.76172   85.76172   71.76172 ]\n",
      "  [105.76172   83.76172   69.76172 ]]\n",
      "\n",
      " ...\n",
      "\n",
      " [[ 54.407684  59.407684  79.407684]\n",
      "  [ 60.460327  65.46033   84.69861 ]\n",
      "  [ 60.328766  65.328766  84.56705 ]\n",
      "  ...\n",
      "  [ 66.03494   46.886505  25.269318]\n",
      "  [ 57.562714  39.43155   21.997131]\n",
      "  [ 55.781525  38.781525  22.781525]]\n",
      "\n",
      " [[ 47.422943  52.422943  72.42294 ]\n",
      "  [ 40.86435   45.86435   65.86435 ]\n",
      "  [ 62.472046  67.472046  87.472046]\n",
      "  ...\n",
      "  [ 71.0849    51.138977  29.233337]\n",
      "  [ 63.557526  44.790833  27.090912]\n",
      "  [ 62.17282   45.17282   29.172821]]\n",
      "\n",
      " [[ 50.888885  55.888885  75.888885]\n",
      "  [ 49.70053   54.70053   76.39584 ]\n",
      "  [ 63.768433  68.76843   90.463745]\n",
      "  ...\n",
      "  [ 68.142     47.52481   25.376373]\n",
      "  [ 61.68857   43.118256  24.829193]\n",
      "  [ 63.979797  46.536102  31.423492]]], shape=(128, 128, 3), dtype=float32)\n",
      "Label: tf.Tensor(b'Cat', shape=(), dtype=string)\n"
     ]
    }
   ],
   "source": [
    "train_ds = train_ds.map(process_image)\n",
    "for img, label in train_ds.take(3):\n",
    "    print('Image',img)\n",
    "    print(\"Label:\",label)\n"
   ]
  },
  {
   "cell_type": "code",
   "execution_count": 37,
   "metadata": {},
   "outputs": [],
   "source": [
    "def scale(image,label):\n",
    "    return image/255,label"
   ]
  },
  {
   "cell_type": "code",
   "execution_count": 39,
   "metadata": {},
   "outputs": [
    {
     "name": "stdout",
     "output_type": "stream",
     "text": [
      "*****Image: [0.00319204 0.00320742 0.00311515]\n",
      "*****Label: b'Cat'\n",
      "*****Image: [0.00012303 0.00012303 0.00012303]\n",
      "*****Label: b'Cat'\n",
      "*****Image: [0.00057454 0.00058992 0.00049765]\n",
      "*****Label: b'Cat'\n",
      "*****Image: [0.00173973 0.00163208 0.00138602]\n",
      "*****Label: b'Cat'\n"
     ]
    },
    {
     "name": "stderr",
     "output_type": "stream",
     "text": [
      "2025-03-14 14:26:52.307733: I tensorflow/core/framework/local_rendezvous.cc:405] Local rendezvous is aborting with status: OUT_OF_RANGE: End of sequence\n"
     ]
    }
   ],
   "source": [
    "train_ds = train_ds.map(scale)\n",
    "for image, label in train_ds.take(4):\n",
    "    print('*****Image:',image.numpy()[0][0])\n",
    "    print('*****Label:',label.numpy())"
   ]
  },
  {
   "cell_type": "code",
   "execution_count": 42,
   "metadata": {},
   "outputs": [
    {
     "name": "stdout",
     "output_type": "stream",
     "text": [
      "*****Image: [0.21937807 0.19584866 0.09388787]\n",
      "*****Label: b'Cat'\n",
      "*****Image: [0.65563726 0.42818627 0.04008023]\n",
      "*****Label: b'Cat'\n",
      "*****Image: [0.30980393 0.38431373 0.36078432]\n",
      "*****Label: b'Cat'\n",
      "*****Image: [0.31433907 0.29080966 0.2359077 ]\n",
      "*****Label: b'Cat'\n"
     ]
    }
   ],
   "source": [
    "images_ds = tf.data.Dataset.list_files('images/*/*',shuffle=False)\n",
    "\n",
    "image_count = len(images_ds)\n",
    "train_size = int(image_count*0.5)\n",
    "train_ds = images_ds.take(train_size)\n",
    "test_ds = images_ds.skip(train_size)\n",
    "\n",
    "\n",
    "tf_data = train_ds.shuffle(200).map(process_image).map(scale)\n",
    "for image, label in tf_data.take(4):\n",
    "    print('*****Image:',image.numpy()[0][0])\n",
    "    print('*****Label:',label.numpy())"
   ]
  },
  {
   "cell_type": "code",
   "execution_count": null,
   "metadata": {},
   "outputs": [],
   "source": []
  }
 ],
 "metadata": {
  "kernelspec": {
   "display_name": ".venv_tf",
   "language": "python",
   "name": "python3"
  },
  "language_info": {
   "codemirror_mode": {
    "name": "ipython",
    "version": 3
   },
   "file_extension": ".py",
   "mimetype": "text/x-python",
   "name": "python",
   "nbconvert_exporter": "python",
   "pygments_lexer": "ipython3",
   "version": "3.12.8"
  }
 },
 "nbformat": 4,
 "nbformat_minor": 2
}
