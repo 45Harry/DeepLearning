{
 "cells": [
  {
   "cell_type": "markdown",
   "id": "3754288f",
   "metadata": {},
   "source": [
    "### Word Embedding Techniques using Embedding Layer in Keras"
   ]
  },
  {
   "cell_type": "code",
   "execution_count": 1,
   "id": "7210a3ac-d648-4a4b-9a9c-7c62cbe787aa",
   "metadata": {},
   "outputs": [
    {
     "name": "stderr",
     "output_type": "stream",
     "text": [
      "2025-03-10 11:09:57.108978: I tensorflow/core/util/port.cc:153] oneDNN custom operations are on. You may see slightly different numerical results due to floating-point round-off errors from different computation orders. To turn them off, set the environment variable `TF_ENABLE_ONEDNN_OPTS=0`.\n",
      "2025-03-10 11:09:57.120657: E external/local_xla/xla/stream_executor/cuda/cuda_fft.cc:477] Unable to register cuFFT factory: Attempting to register factory for plugin cuFFT when one has already been registered\n",
      "WARNING: All log messages before absl::InitializeLog() is called are written to STDERR\n",
      "E0000 00:00:1741584297.134675    3219 cuda_dnn.cc:8310] Unable to register cuDNN factory: Attempting to register factory for plugin cuDNN when one has already been registered\n",
      "E0000 00:00:1741584297.138944    3219 cuda_blas.cc:1418] Unable to register cuBLAS factory: Attempting to register factory for plugin cuBLAS when one has already been registered\n",
      "2025-03-10 11:09:57.151442: I tensorflow/core/platform/cpu_feature_guard.cc:210] This TensorFlow binary is optimized to use available CPU instructions in performance-critical operations.\n",
      "To enable the following instructions: AVX2 AVX512F AVX512_VNNI FMA, in other operations, rebuild TensorFlow with the appropriate compiler flags.\n"
     ]
    }
   ],
   "source": [
    "from tensorflow.keras.preprocessing.text import one_hot"
   ]
  },
  {
   "cell_type": "code",
   "execution_count": 2,
   "id": "0c94bd9b",
   "metadata": {},
   "outputs": [],
   "source": [
    "##sentences\n",
    "sent = ['the glass of milk',\n",
    "        'the glass of juice',\n",
    "        'the cup of tea',\n",
    "        'I am a good boy',\n",
    "        'I am a good developer',\n",
    "        'understand the meaning of words',\n",
    "        'your videos are good']"
   ]
  },
  {
   "cell_type": "code",
   "execution_count": 3,
   "id": "2d57bd57",
   "metadata": {},
   "outputs": [
    {
     "data": {
      "text/plain": [
       "['the glass of milk',\n",
       " 'the glass of juice',\n",
       " 'the cup of tea',\n",
       " 'I am a good boy',\n",
       " 'I am a good developer',\n",
       " 'understand the meaning of words',\n",
       " 'your videos are good']"
      ]
     },
     "execution_count": 3,
     "metadata": {},
     "output_type": "execute_result"
    }
   ],
   "source": [
    "sent"
   ]
  },
  {
   "cell_type": "code",
   "execution_count": 4,
   "id": "a5294e86",
   "metadata": {},
   "outputs": [],
   "source": [
    "voc_size = 10000"
   ]
  },
  {
   "cell_type": "markdown",
   "id": "02abf736",
   "metadata": {},
   "source": [
    "### One Hot Representation"
   ]
  },
  {
   "cell_type": "code",
   "execution_count": 5,
   "id": "4e0e15c5",
   "metadata": {},
   "outputs": [
    {
     "name": "stdout",
     "output_type": "stream",
     "text": [
      "[[2009, 1334, 3299, 2048], [2009, 1334, 3299, 3678], [2009, 8913, 3299, 620], [6689, 7840, 7640, 6189, 2563], [6689, 7840, 7640, 6189, 4033], [5857, 2009, 9837, 3299, 6975], [8632, 8961, 3558, 6189]]\n"
     ]
    }
   ],
   "source": [
    "onehot_repr=[one_hot(words,voc_size) for words in sent]\n",
    "print(onehot_repr)"
   ]
  },
  {
   "cell_type": "markdown",
   "id": "86762057",
   "metadata": {},
   "source": [
    "### Word Embedding Representation"
   ]
  },
  {
   "cell_type": "code",
   "execution_count": 6,
   "id": "4d698910",
   "metadata": {},
   "outputs": [],
   "source": [
    "from tensorflow.keras.layers import Embedding\n",
    "from tensorflow.keras.preprocessing.sequence import pad_sequences\n",
    "from tensorflow.keras.models import Sequential"
   ]
  },
  {
   "cell_type": "code",
   "execution_count": 7,
   "id": "1a8968cd",
   "metadata": {},
   "outputs": [],
   "source": [
    "import numpy as np"
   ]
  },
  {
   "cell_type": "code",
   "execution_count": 8,
   "id": "5b29cc3d",
   "metadata": {},
   "outputs": [
    {
     "name": "stdout",
     "output_type": "stream",
     "text": [
      "[[   0    0    0    0 2009 1334 3299 2048]\n",
      " [   0    0    0    0 2009 1334 3299 3678]\n",
      " [   0    0    0    0 2009 8913 3299  620]\n",
      " [   0    0    0 6689 7840 7640 6189 2563]\n",
      " [   0    0    0 6689 7840 7640 6189 4033]\n",
      " [   0    0    0 5857 2009 9837 3299 6975]\n",
      " [   0    0    0    0 8632 8961 3558 6189]]\n"
     ]
    }
   ],
   "source": [
    "sent_lengths = 8\n",
    "embedded_docs = pad_sequences(onehot_repr,padding='pre',maxlen=sent_lengths)\n",
    "print(embedded_docs)"
   ]
  },
  {
   "cell_type": "code",
   "execution_count": 9,
   "id": "d8ba17b3",
   "metadata": {},
   "outputs": [],
   "source": [
    "dim = 10 "
   ]
  },
  {
   "cell_type": "code",
   "execution_count": 14,
   "id": "e29c9d95",
   "metadata": {},
   "outputs": [
    {
     "name": "stderr",
     "output_type": "stream",
     "text": [
      "/home/harry/Documents/Code/Data_Science/DeepLearning/.venv_tf/lib/python3.12/site-packages/keras/src/layers/core/embedding.py:93: UserWarning: Do not pass an `input_shape`/`input_dim` argument to a layer. When using Sequential models, prefer using an `Input(shape)` object as the first layer in the model instead.\n",
      "  super().__init__(**kwargs)\n"
     ]
    }
   ],
   "source": [
    "model = Sequential()\n",
    "model.add(Embedding(voc_size,10,\n",
    "                        input_shape=(sent_lengths,)))\n",
    "model.compile('adam','mse')"
   ]
  },
  {
   "cell_type": "code",
   "execution_count": 15,
   "id": "37e190bf",
   "metadata": {},
   "outputs": [
    {
     "data": {
      "text/html": [
       "<pre style=\"white-space:pre;overflow-x:auto;line-height:normal;font-family:Menlo,'DejaVu Sans Mono',consolas,'Courier New',monospace\"><span style=\"font-weight: bold\">Model: \"sequential_2\"</span>\n",
       "</pre>\n"
      ],
      "text/plain": [
       "\u001b[1mModel: \"sequential_2\"\u001b[0m\n"
      ]
     },
     "metadata": {},
     "output_type": "display_data"
    },
    {
     "data": {
      "text/html": [
       "<pre style=\"white-space:pre;overflow-x:auto;line-height:normal;font-family:Menlo,'DejaVu Sans Mono',consolas,'Courier New',monospace\">┏━━━━━━━━━━━━━━━━━━━━━━━━━━━━━━━━━┳━━━━━━━━━━━━━━━━━━━━━━━━┳━━━━━━━━━━━━━━━┓\n",
       "┃<span style=\"font-weight: bold\"> Layer (type)                    </span>┃<span style=\"font-weight: bold\"> Output Shape           </span>┃<span style=\"font-weight: bold\">       Param # </span>┃\n",
       "┡━━━━━━━━━━━━━━━━━━━━━━━━━━━━━━━━━╇━━━━━━━━━━━━━━━━━━━━━━━━╇━━━━━━━━━━━━━━━┩\n",
       "│ embedding_2 (<span style=\"color: #0087ff; text-decoration-color: #0087ff\">Embedding</span>)         │ (<span style=\"color: #00d7ff; text-decoration-color: #00d7ff\">None</span>, <span style=\"color: #00af00; text-decoration-color: #00af00\">8</span>, <span style=\"color: #00af00; text-decoration-color: #00af00\">10</span>)          │       <span style=\"color: #00af00; text-decoration-color: #00af00\">100,000</span> │\n",
       "└─────────────────────────────────┴────────────────────────┴───────────────┘\n",
       "</pre>\n"
      ],
      "text/plain": [
       "┏━━━━━━━━━━━━━━━━━━━━━━━━━━━━━━━━━┳━━━━━━━━━━━━━━━━━━━━━━━━┳━━━━━━━━━━━━━━━┓\n",
       "┃\u001b[1m \u001b[0m\u001b[1mLayer (type)                   \u001b[0m\u001b[1m \u001b[0m┃\u001b[1m \u001b[0m\u001b[1mOutput Shape          \u001b[0m\u001b[1m \u001b[0m┃\u001b[1m \u001b[0m\u001b[1m      Param #\u001b[0m\u001b[1m \u001b[0m┃\n",
       "┡━━━━━━━━━━━━━━━━━━━━━━━━━━━━━━━━━╇━━━━━━━━━━━━━━━━━━━━━━━━╇━━━━━━━━━━━━━━━┩\n",
       "│ embedding_2 (\u001b[38;5;33mEmbedding\u001b[0m)         │ (\u001b[38;5;45mNone\u001b[0m, \u001b[38;5;34m8\u001b[0m, \u001b[38;5;34m10\u001b[0m)          │       \u001b[38;5;34m100,000\u001b[0m │\n",
       "└─────────────────────────────────┴────────────────────────┴───────────────┘\n"
      ]
     },
     "metadata": {},
     "output_type": "display_data"
    },
    {
     "data": {
      "text/html": [
       "<pre style=\"white-space:pre;overflow-x:auto;line-height:normal;font-family:Menlo,'DejaVu Sans Mono',consolas,'Courier New',monospace\"><span style=\"font-weight: bold\"> Total params: </span><span style=\"color: #00af00; text-decoration-color: #00af00\">100,000</span> (390.62 KB)\n",
       "</pre>\n"
      ],
      "text/plain": [
       "\u001b[1m Total params: \u001b[0m\u001b[38;5;34m100,000\u001b[0m (390.62 KB)\n"
      ]
     },
     "metadata": {},
     "output_type": "display_data"
    },
    {
     "data": {
      "text/html": [
       "<pre style=\"white-space:pre;overflow-x:auto;line-height:normal;font-family:Menlo,'DejaVu Sans Mono',consolas,'Courier New',monospace\"><span style=\"font-weight: bold\"> Trainable params: </span><span style=\"color: #00af00; text-decoration-color: #00af00\">100,000</span> (390.62 KB)\n",
       "</pre>\n"
      ],
      "text/plain": [
       "\u001b[1m Trainable params: \u001b[0m\u001b[38;5;34m100,000\u001b[0m (390.62 KB)\n"
      ]
     },
     "metadata": {},
     "output_type": "display_data"
    },
    {
     "data": {
      "text/html": [
       "<pre style=\"white-space:pre;overflow-x:auto;line-height:normal;font-family:Menlo,'DejaVu Sans Mono',consolas,'Courier New',monospace\"><span style=\"font-weight: bold\"> Non-trainable params: </span><span style=\"color: #00af00; text-decoration-color: #00af00\">0</span> (0.00 B)\n",
       "</pre>\n"
      ],
      "text/plain": [
       "\u001b[1m Non-trainable params: \u001b[0m\u001b[38;5;34m0\u001b[0m (0.00 B)\n"
      ]
     },
     "metadata": {},
     "output_type": "display_data"
    }
   ],
   "source": [
    "model.summary()"
   ]
  },
  {
   "cell_type": "code",
   "execution_count": 16,
   "id": "3f3d0e80",
   "metadata": {},
   "outputs": [
    {
     "name": "stdout",
     "output_type": "stream",
     "text": [
      "\u001b[1m1/1\u001b[0m \u001b[32m━━━━━━━━━━━━━━━━━━━━\u001b[0m\u001b[37m\u001b[0m \u001b[1m0s\u001b[0m 83ms/step\n",
      "[[[ 0.02455162 -0.04208952  0.03691773  0.03234137 -0.01906139\n",
      "   -0.00425322 -0.02108437  0.01569773 -0.01741485  0.01721331]\n",
      "  [ 0.02455162 -0.04208952  0.03691773  0.03234137 -0.01906139\n",
      "   -0.00425322 -0.02108437  0.01569773 -0.01741485  0.01721331]\n",
      "  [ 0.02455162 -0.04208952  0.03691773  0.03234137 -0.01906139\n",
      "   -0.00425322 -0.02108437  0.01569773 -0.01741485  0.01721331]\n",
      "  [ 0.02455162 -0.04208952  0.03691773  0.03234137 -0.01906139\n",
      "   -0.00425322 -0.02108437  0.01569773 -0.01741485  0.01721331]\n",
      "  [-0.03295907  0.04746456  0.04935533  0.04906409 -0.01191705\n",
      "   -0.04247999  0.01825486  0.01099847 -0.01241    -0.04169365]\n",
      "  [-0.01072608 -0.00704109 -0.01761365  0.04478123  0.00530035\n",
      "   -0.04490566  0.00206035 -0.02410109  0.0034412   0.02165388]\n",
      "  [-0.00373683 -0.01569643  0.0179863   0.02532487  0.03604079\n",
      "    0.01585818 -0.02891216 -0.03304874 -0.04980648 -0.02267152]\n",
      "  [ 0.01679695  0.03820128 -0.01582075 -0.01974483 -0.00308989\n",
      "   -0.0068607   0.02147243  0.03659738  0.00961337  0.01211835]]\n",
      "\n",
      " [[ 0.02455162 -0.04208952  0.03691773  0.03234137 -0.01906139\n",
      "   -0.00425322 -0.02108437  0.01569773 -0.01741485  0.01721331]\n",
      "  [ 0.02455162 -0.04208952  0.03691773  0.03234137 -0.01906139\n",
      "   -0.00425322 -0.02108437  0.01569773 -0.01741485  0.01721331]\n",
      "  [ 0.02455162 -0.04208952  0.03691773  0.03234137 -0.01906139\n",
      "   -0.00425322 -0.02108437  0.01569773 -0.01741485  0.01721331]\n",
      "  [ 0.02455162 -0.04208952  0.03691773  0.03234137 -0.01906139\n",
      "   -0.00425322 -0.02108437  0.01569773 -0.01741485  0.01721331]\n",
      "  [-0.03295907  0.04746456  0.04935533  0.04906409 -0.01191705\n",
      "   -0.04247999  0.01825486  0.01099847 -0.01241    -0.04169365]\n",
      "  [-0.01072608 -0.00704109 -0.01761365  0.04478123  0.00530035\n",
      "   -0.04490566  0.00206035 -0.02410109  0.0034412   0.02165388]\n",
      "  [-0.00373683 -0.01569643  0.0179863   0.02532487  0.03604079\n",
      "    0.01585818 -0.02891216 -0.03304874 -0.04980648 -0.02267152]\n",
      "  [-0.01324882 -0.03239178 -0.01681972  0.03830976  0.04164103\n",
      "   -0.00283571 -0.03511643  0.04531422  0.02995679  0.00830724]]\n",
      "\n",
      " [[ 0.02455162 -0.04208952  0.03691773  0.03234137 -0.01906139\n",
      "   -0.00425322 -0.02108437  0.01569773 -0.01741485  0.01721331]\n",
      "  [ 0.02455162 -0.04208952  0.03691773  0.03234137 -0.01906139\n",
      "   -0.00425322 -0.02108437  0.01569773 -0.01741485  0.01721331]\n",
      "  [ 0.02455162 -0.04208952  0.03691773  0.03234137 -0.01906139\n",
      "   -0.00425322 -0.02108437  0.01569773 -0.01741485  0.01721331]\n",
      "  [ 0.02455162 -0.04208952  0.03691773  0.03234137 -0.01906139\n",
      "   -0.00425322 -0.02108437  0.01569773 -0.01741485  0.01721331]\n",
      "  [-0.03295907  0.04746456  0.04935533  0.04906409 -0.01191705\n",
      "   -0.04247999  0.01825486  0.01099847 -0.01241    -0.04169365]\n",
      "  [-0.03211578 -0.0069306   0.03038945  0.02097515 -0.01428646\n",
      "    0.03880496 -0.03191409 -0.03675517 -0.04299673 -0.0165444 ]\n",
      "  [-0.00373683 -0.01569643  0.0179863   0.02532487  0.03604079\n",
      "    0.01585818 -0.02891216 -0.03304874 -0.04980648 -0.02267152]\n",
      "  [ 0.01190128  0.0422218   0.01528789  0.04045561 -0.02908914\n",
      "    0.02518977 -0.03899435  0.02418567 -0.04928397  0.01555368]]\n",
      "\n",
      " [[ 0.02455162 -0.04208952  0.03691773  0.03234137 -0.01906139\n",
      "   -0.00425322 -0.02108437  0.01569773 -0.01741485  0.01721331]\n",
      "  [ 0.02455162 -0.04208952  0.03691773  0.03234137 -0.01906139\n",
      "   -0.00425322 -0.02108437  0.01569773 -0.01741485  0.01721331]\n",
      "  [ 0.02455162 -0.04208952  0.03691773  0.03234137 -0.01906139\n",
      "   -0.00425322 -0.02108437  0.01569773 -0.01741485  0.01721331]\n",
      "  [-0.02155521 -0.04601045 -0.03593147 -0.0435135  -0.03008404\n",
      "   -0.03140773  0.00589516  0.01715224 -0.03220848 -0.00021375]\n",
      "  [ 0.01911898  0.00730324 -0.01693771 -0.03593624  0.02848914\n",
      "    0.00584414  0.04677526 -0.0388399  -0.03441471  0.01834113]\n",
      "  [ 0.00077232  0.03142143  0.0213582   0.02638408  0.03386029\n",
      "    0.04222964  0.03280903  0.01916     0.01688732 -0.02755995]\n",
      "  [ 0.01215572 -0.00048647  0.02400713  0.04466314  0.0485014\n",
      "   -0.02065787  0.03353299 -0.01523077  0.03524608  0.00526121]\n",
      "  [ 0.00287776 -0.03680133 -0.0138769   0.01232557 -0.01478494\n",
      "    0.00382683 -0.01006188 -0.04520736 -0.00894711 -0.00652726]]\n",
      "\n",
      " [[ 0.02455162 -0.04208952  0.03691773  0.03234137 -0.01906139\n",
      "   -0.00425322 -0.02108437  0.01569773 -0.01741485  0.01721331]\n",
      "  [ 0.02455162 -0.04208952  0.03691773  0.03234137 -0.01906139\n",
      "   -0.00425322 -0.02108437  0.01569773 -0.01741485  0.01721331]\n",
      "  [ 0.02455162 -0.04208952  0.03691773  0.03234137 -0.01906139\n",
      "   -0.00425322 -0.02108437  0.01569773 -0.01741485  0.01721331]\n",
      "  [-0.02155521 -0.04601045 -0.03593147 -0.0435135  -0.03008404\n",
      "   -0.03140773  0.00589516  0.01715224 -0.03220848 -0.00021375]\n",
      "  [ 0.01911898  0.00730324 -0.01693771 -0.03593624  0.02848914\n",
      "    0.00584414  0.04677526 -0.0388399  -0.03441471  0.01834113]\n",
      "  [ 0.00077232  0.03142143  0.0213582   0.02638408  0.03386029\n",
      "    0.04222964  0.03280903  0.01916     0.01688732 -0.02755995]\n",
      "  [ 0.01215572 -0.00048647  0.02400713  0.04466314  0.0485014\n",
      "   -0.02065787  0.03353299 -0.01523077  0.03524608  0.00526121]\n",
      "  [-0.02168605 -0.03679423  0.02785715 -0.01848985  0.03732875\n",
      "    0.01067544  0.04443581 -0.01192643 -0.03196371 -0.03485699]]\n",
      "\n",
      " [[ 0.02455162 -0.04208952  0.03691773  0.03234137 -0.01906139\n",
      "   -0.00425322 -0.02108437  0.01569773 -0.01741485  0.01721331]\n",
      "  [ 0.02455162 -0.04208952  0.03691773  0.03234137 -0.01906139\n",
      "   -0.00425322 -0.02108437  0.01569773 -0.01741485  0.01721331]\n",
      "  [ 0.02455162 -0.04208952  0.03691773  0.03234137 -0.01906139\n",
      "   -0.00425322 -0.02108437  0.01569773 -0.01741485  0.01721331]\n",
      "  [-0.00798931 -0.02389753 -0.03251944  0.0078403  -0.04385614\n",
      "   -0.02725877 -0.00319789 -0.01640489  0.00369576  0.0238279 ]\n",
      "  [-0.03295907  0.04746456  0.04935533  0.04906409 -0.01191705\n",
      "   -0.04247999  0.01825486  0.01099847 -0.01241    -0.04169365]\n",
      "  [-0.02317017  0.00177466 -0.00153197 -0.04851595 -0.00915191\n",
      "   -0.02733484  0.02427575  0.03635705  0.00737559  0.00535426]\n",
      "  [-0.00373683 -0.01569643  0.0179863   0.02532487  0.03604079\n",
      "    0.01585818 -0.02891216 -0.03304874 -0.04980648 -0.02267152]\n",
      "  [ 0.04931891 -0.01112715 -0.02562566  0.02599419  0.03178881\n",
      "   -0.04914001  0.03284324 -0.01841904  0.03106166  0.02089951]]\n",
      "\n",
      " [[ 0.02455162 -0.04208952  0.03691773  0.03234137 -0.01906139\n",
      "   -0.00425322 -0.02108437  0.01569773 -0.01741485  0.01721331]\n",
      "  [ 0.02455162 -0.04208952  0.03691773  0.03234137 -0.01906139\n",
      "   -0.00425322 -0.02108437  0.01569773 -0.01741485  0.01721331]\n",
      "  [ 0.02455162 -0.04208952  0.03691773  0.03234137 -0.01906139\n",
      "   -0.00425322 -0.02108437  0.01569773 -0.01741485  0.01721331]\n",
      "  [ 0.02455162 -0.04208952  0.03691773  0.03234137 -0.01906139\n",
      "   -0.00425322 -0.02108437  0.01569773 -0.01741485  0.01721331]\n",
      "  [-0.01703177  0.00449155  0.04377012 -0.00057074 -0.03942401\n",
      "    0.01822778 -0.04738283 -0.01478098  0.03715568 -0.01824646]\n",
      "  [-0.0064407  -0.02044026 -0.00537858  0.03835106  0.04097276\n",
      "   -0.03584462  0.00441965 -0.01074757 -0.01319645 -0.02781152]\n",
      "  [-0.00660114 -0.01055621 -0.03131143  0.03849009  0.02885863\n",
      "   -0.04814648  0.03539899 -0.0087075  -0.01601622  0.03912522]\n",
      "  [ 0.01215572 -0.00048647  0.02400713  0.04466314  0.0485014\n",
      "   -0.02065787  0.03353299 -0.01523077  0.03524608  0.00526121]]]\n"
     ]
    }
   ],
   "source": [
    "print(model.predict(embedded_docs))"
   ]
  },
  {
   "cell_type": "code",
   "execution_count": 17,
   "id": "ab9e4195",
   "metadata": {},
   "outputs": [
    {
     "data": {
      "text/plain": [
       "array([   0,    0,    0,    0, 2009, 1334, 3299, 2048], dtype=int32)"
      ]
     },
     "execution_count": 17,
     "metadata": {},
     "output_type": "execute_result"
    }
   ],
   "source": [
    "embedded_docs[0]"
   ]
  },
  {
   "cell_type": "code",
   "execution_count": 18,
   "id": "16a04602",
   "metadata": {},
   "outputs": [
    {
     "name": "stdout",
     "output_type": "stream",
     "text": [
      "\u001b[1m1/1\u001b[0m \u001b[32m━━━━━━━━━━━━━━━━━━━━\u001b[0m\u001b[37m\u001b[0m \u001b[1m0s\u001b[0m 74ms/step\n",
      "[[ 0.02455162 -0.04208952  0.03691773  0.03234137 -0.01906139 -0.00425322\n",
      "  -0.02108437  0.01569773 -0.01741485  0.01721331]\n",
      " [ 0.02455162 -0.04208952  0.03691773  0.03234137 -0.01906139 -0.00425322\n",
      "  -0.02108437  0.01569773 -0.01741485  0.01721331]\n",
      " [ 0.02455162 -0.04208952  0.03691773  0.03234137 -0.01906139 -0.00425322\n",
      "  -0.02108437  0.01569773 -0.01741485  0.01721331]\n",
      " [ 0.02455162 -0.04208952  0.03691773  0.03234137 -0.01906139 -0.00425322\n",
      "  -0.02108437  0.01569773 -0.01741485  0.01721331]\n",
      " [-0.03295907  0.04746456  0.04935533  0.04906409 -0.01191705 -0.04247999\n",
      "   0.01825486  0.01099847 -0.01241    -0.04169365]\n",
      " [-0.01072608 -0.00704109 -0.01761365  0.04478123  0.00530035 -0.04490566\n",
      "   0.00206035 -0.02410109  0.0034412   0.02165388]\n",
      " [-0.00373683 -0.01569643  0.0179863   0.02532487  0.03604079  0.01585818\n",
      "  -0.02891216 -0.03304874 -0.04980648 -0.02267152]\n",
      " [ 0.01679695  0.03820128 -0.01582075 -0.01974483 -0.00308989 -0.0068607\n",
      "   0.02147243  0.03659738  0.00961337  0.01211835]]\n"
     ]
    }
   ],
   "source": [
    "print(model.predict(embedded_docs)[0])"
   ]
  },
  {
   "cell_type": "code",
   "execution_count": null,
   "id": "a7e001e6",
   "metadata": {},
   "outputs": [],
   "source": []
  }
 ],
 "metadata": {
  "kernelspec": {
   "display_name": ".venv_tf",
   "language": "python",
   "name": "python3"
  },
  "language_info": {
   "codemirror_mode": {
    "name": "ipython",
    "version": 3
   },
   "file_extension": ".py",
   "mimetype": "text/x-python",
   "name": "python",
   "nbconvert_exporter": "python",
   "pygments_lexer": "ipython3",
   "version": "3.12.8"
  }
 },
 "nbformat": 4,
 "nbformat_minor": 5
}
