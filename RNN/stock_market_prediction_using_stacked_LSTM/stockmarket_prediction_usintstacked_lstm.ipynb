{
 "cells": [
  {
   "cell_type": "markdown",
   "metadata": {},
   "source": [
    "### Stock Market Prediction And Forecasting Using Stacked LSTM"
   ]
  },
  {
   "cell_type": "code",
   "execution_count": 3,
   "metadata": {},
   "outputs": [],
   "source": [
    "#!pip install pandas_datareader\n",
    "import pandas_datareader as pdr"
   ]
  },
  {
   "cell_type": "code",
   "execution_count": 4,
   "metadata": {},
   "outputs": [],
   "source": [
    "#Data collection\n",
    "#key = '0311824c9ca43c69f42be8427039b67eb919922c'\n",
    "#df = pdr.get_data_tiingo('AAPL',api_key = key)"
   ]
  },
  {
   "cell_type": "code",
   "execution_count": 1,
   "metadata": {},
   "outputs": [
    {
     "name": "stdout",
     "output_type": "stream",
     "text": [
      "YF.download() has changed argument auto_adjust default to True\n"
     ]
    },
    {
     "name": "stderr",
     "output_type": "stream",
     "text": [
      "[*********************100%***********************]  1 of 1 completed\n"
     ]
    }
   ],
   "source": [
    "import yfinance as yf\n",
    "\n",
    "df = yf.download('AAPL', start='2020-01-01', end='2025-01-01')\n"
   ]
  },
  {
   "cell_type": "code",
   "execution_count": 2,
   "metadata": {},
   "outputs": [],
   "source": [
    "df.to_csv('AAPL.csv')"
   ]
  },
  {
   "cell_type": "code",
   "execution_count": 3,
   "metadata": {},
   "outputs": [],
   "source": [
    "import pandas as pd\n",
    "df = pd.read_csv('AAPL.csv')"
   ]
  },
  {
   "cell_type": "code",
   "execution_count": 4,
   "metadata": {},
   "outputs": [
    {
     "data": {
      "text/html": [
       "<div>\n",
       "<style scoped>\n",
       "    .dataframe tbody tr th:only-of-type {\n",
       "        vertical-align: middle;\n",
       "    }\n",
       "\n",
       "    .dataframe tbody tr th {\n",
       "        vertical-align: top;\n",
       "    }\n",
       "\n",
       "    .dataframe thead th {\n",
       "        text-align: right;\n",
       "    }\n",
       "</style>\n",
       "<table border=\"1\" class=\"dataframe\">\n",
       "  <thead>\n",
       "    <tr style=\"text-align: right;\">\n",
       "      <th></th>\n",
       "      <th>Price</th>\n",
       "      <th>Close</th>\n",
       "      <th>High</th>\n",
       "      <th>Low</th>\n",
       "      <th>Open</th>\n",
       "      <th>Volume</th>\n",
       "    </tr>\n",
       "  </thead>\n",
       "  <tbody>\n",
       "    <tr>\n",
       "      <th>0</th>\n",
       "      <td>Ticker</td>\n",
       "      <td>AAPL</td>\n",
       "      <td>AAPL</td>\n",
       "      <td>AAPL</td>\n",
       "      <td>AAPL</td>\n",
       "      <td>AAPL</td>\n",
       "    </tr>\n",
       "    <tr>\n",
       "      <th>1</th>\n",
       "      <td>Date</td>\n",
       "      <td>NaN</td>\n",
       "      <td>NaN</td>\n",
       "      <td>NaN</td>\n",
       "      <td>NaN</td>\n",
       "      <td>NaN</td>\n",
       "    </tr>\n",
       "    <tr>\n",
       "      <th>2</th>\n",
       "      <td>2020-01-02</td>\n",
       "      <td>72.71607971191406</td>\n",
       "      <td>72.77660582997152</td>\n",
       "      <td>71.46681974859514</td>\n",
       "      <td>71.7210264890596</td>\n",
       "      <td>135480400</td>\n",
       "    </tr>\n",
       "    <tr>\n",
       "      <th>3</th>\n",
       "      <td>2020-01-03</td>\n",
       "      <td>72.00912475585938</td>\n",
       "      <td>72.7717522953066</td>\n",
       "      <td>71.78396939069293</td>\n",
       "      <td>71.94133580542943</td>\n",
       "      <td>146322800</td>\n",
       "    </tr>\n",
       "    <tr>\n",
       "      <th>4</th>\n",
       "      <td>2020-01-06</td>\n",
       "      <td>72.58290100097656</td>\n",
       "      <td>72.62163859417052</td>\n",
       "      <td>70.87606782262263</td>\n",
       "      <td>71.12785848416316</td>\n",
       "      <td>118387200</td>\n",
       "    </tr>\n",
       "  </tbody>\n",
       "</table>\n",
       "</div>"
      ],
      "text/plain": [
       "        Price              Close               High                Low  \\\n",
       "0      Ticker               AAPL               AAPL               AAPL   \n",
       "1        Date                NaN                NaN                NaN   \n",
       "2  2020-01-02  72.71607971191406  72.77660582997152  71.46681974859514   \n",
       "3  2020-01-03  72.00912475585938   72.7717522953066  71.78396939069293   \n",
       "4  2020-01-06  72.58290100097656  72.62163859417052  70.87606782262263   \n",
       "\n",
       "                Open     Volume  \n",
       "0               AAPL       AAPL  \n",
       "1                NaN        NaN  \n",
       "2   71.7210264890596  135480400  \n",
       "3  71.94133580542943  146322800  \n",
       "4  71.12785848416316  118387200  "
      ]
     },
     "execution_count": 4,
     "metadata": {},
     "output_type": "execute_result"
    }
   ],
   "source": [
    "df.head()"
   ]
  },
  {
   "cell_type": "code",
   "execution_count": 9,
   "metadata": {},
   "outputs": [],
   "source": [
    "df = df.drop([0,1],axis = 0)"
   ]
  },
  {
   "cell_type": "code",
   "execution_count": 17,
   "metadata": {},
   "outputs": [],
   "source": [
    "df1 = df.reset_index()['Close']"
   ]
  },
  {
   "cell_type": "code",
   "execution_count": 18,
   "metadata": {},
   "outputs": [
    {
     "data": {
      "text/plain": [
       "10       76.32098388671875\n",
       "11       77.16594696044922\n",
       "12       76.64299011230469\n",
       "13       76.91657257080078\n",
       "14       77.28699493408203\n",
       "               ...        \n",
       "1253    257.91644287109375\n",
       "1254     258.7355041503906\n",
       "1255    255.30929565429688\n",
       "1256     251.9230194091797\n",
       "1257     250.1449737548828\n",
       "Name: Close, Length: 1248, dtype: object"
      ]
     },
     "execution_count": 18,
     "metadata": {},
     "output_type": "execute_result"
    }
   ],
   "source": [
    "df1[10:]"
   ]
  },
  {
   "cell_type": "code",
   "execution_count": 20,
   "metadata": {},
   "outputs": [
    {
     "data": {
      "text/plain": [
       "(1258,)"
      ]
     },
     "execution_count": 20,
     "metadata": {},
     "output_type": "execute_result"
    }
   ],
   "source": [
    "df1.shape"
   ]
  },
  {
   "cell_type": "code",
   "execution_count": 31,
   "metadata": {},
   "outputs": [],
   "source": [
    "df1 = df1.astype('float64')"
   ]
  },
  {
   "cell_type": "code",
   "execution_count": 33,
   "metadata": {},
   "outputs": [
    {
     "data": {
      "text/plain": [
       "[<matplotlib.lines.Line2D at 0x7caaeb068d70>]"
      ]
     },
     "execution_count": 33,
     "metadata": {},
     "output_type": "execute_result"
    },
    {
     "data": {
      "image/png": "[encoded data removed]",
      "text/plain": [
       "<Figure size 640x480 with 1 Axes>"
      ]
     },
     "metadata": {},
     "output_type": "display_data"
    }
   ],
   "source": [
    "import matplotlib.pyplot as plt\n",
    "plt.plot(df1)"
   ]
  },
  {
   "cell_type": "code",
   "execution_count": 35,
   "metadata": {},
   "outputs": [],
   "source": [
    "### LSTM are sensitive to the scale of the data , so we apply MinMax scaler\n",
    "import numpy as np\n",
    "from sklearn.preprocessing import MinMaxScaler\n",
    "scaler = MinMaxScaler()\n",
    "df1 = scaler.fit_transform(np.array(df1).reshape(-1,1))\n"
   ]
  },
  {
   "cell_type": "code",
   "execution_count": 45,
   "metadata": {},
   "outputs": [
    {
     "data": {
      "text/plain": [
       "(1258, 1)"
      ]
     },
     "execution_count": 45,
     "metadata": {},
     "output_type": "execute_result"
    }
   ],
   "source": [
    "df1.shape"
   ]
  },
  {
   "cell_type": "code",
   "execution_count": 42,
   "metadata": {},
   "outputs": [
    {
     "data": {
      "text/plain": [
       "(1258, 1)"
      ]
     },
     "execution_count": 42,
     "metadata": {},
     "output_type": "execute_result"
    }
   ],
   "source": [
    "df1.shape"
   ]
  },
  {
   "cell_type": "code",
   "execution_count": 46,
   "metadata": {},
   "outputs": [],
   "source": [
    "# Splitting dataset into training set and test set\n",
    "train_size = int(len(df1)*0.65)\n",
    "test_size = len(df1)-train_size\n",
    "train_data,test_data = df1[0:train_size,:],df1[train_size:len(df1),:1]\n"
   ]
  },
  {
   "cell_type": "code",
   "execution_count": 47,
   "metadata": {},
   "outputs": [
    {
     "data": {
      "text/plain": [
       "(817, 441)"
      ]
     },
     "execution_count": 47,
     "metadata": {},
     "output_type": "execute_result"
    }
   ],
   "source": [
    "train_size,test_size"
   ]
  },
  {
   "cell_type": "code",
   "execution_count": 49,
   "metadata": {},
   "outputs": [],
   "source": [
    "#conver an array of valuea into a dataset matrix\n",
    "def create_dataset(dataset,time_step=1):\n",
    "    dataX , dataY = [],[]\n",
    "    for i in range(len(dataset)-time_step-1):\n",
    "        a = dataset[i:(i+time_step),0]  \n",
    "        dataX.append(a)\n",
    "        dataY.append(dataset[i+time_step,0])\n",
    "    return np.array(dataX),np.array(dataY)"
   ]
  },
  {
   "cell_type": "code",
   "execution_count": 50,
   "metadata": {},
   "outputs": [],
   "source": [
    "#reshape int X=t , t+1,t+2 , t+3 and Y = t+4\n",
    "time_step = 99\n",
    "X_train,y_train = create_dataset(train_data,time_step)\n",
    "X_test,y_test = create_dataset(test_data,time_step)"
   ]
  },
  {
   "cell_type": "code",
   "execution_count": 51,
   "metadata": {},
   "outputs": [
    {
     "data": {
      "text/plain": [
       "((341, 99), (341,))"
      ]
     },
     "execution_count": 51,
     "metadata": {},
     "output_type": "execute_result"
    }
   ],
   "source": [
    "X_test.shape,y_test.shape"
   ]
  },
  {
   "cell_type": "code",
   "execution_count": 52,
   "metadata": {},
   "outputs": [],
   "source": [
    "#reshape input to be [samples , time steps,features] which is required for LSTM\n",
    "X_train = X_train.reshape(X_train.shape[0],X_train.shape[1],1)\n",
    "X_test = X_test.reshape(X_test.shape[0],X_test.shape[1],1)"
   ]
  },
  {
   "cell_type": "code",
   "execution_count": 53,
   "metadata": {},
   "outputs": [],
   "source": [
    "### Crate the lstm model\n",
    "from tensorflow.keras.models import Sequential\n",
    "from tensorflow.keras.layers import Dense \n",
    "from tensorflow.keras.layers import LSTM"
   ]
  },
  {
   "cell_type": "code",
   "execution_count": 54,
   "metadata": {},
   "outputs": [
    {
     "name": "stderr",
     "output_type": "stream",
     "text": [
      "2025-03-11 13:19:50.434592: E external/local_xla/xla/stream_executor/cuda/cuda_driver.cc:152] failed call to cuInit: INTERNAL: CUDA error: Failed call to cuInit: UNKNOWN ERROR (303)\n",
      "/home/harry/Documents/Code/Data_Science/DeepLearning/.venv_tf/lib/python3.12/site-packages/keras/src/layers/rnn/rnn.py:200: UserWarning: Do not pass an `input_shape`/`input_dim` argument to a layer. When using Sequential models, prefer using an `Input(shape)` object as the first layer in the model instead.\n",
      "  super().__init__(**kwargs)\n"
     ]
    }
   ],
   "source": [
    "model = Sequential()\n",
    "model.add(LSTM(50,return_sequences = True,input_shape=(100,1)))\n",
    "model.add(LSTM(50,return_sequences=True))\n",
    "model.add(LSTM(50))\n",
    "model.add(Dense(1))\n",
    "model.compile(loss='mean_squared_error',optimizer='adam')"
   ]
  },
  {
   "cell_type": "code",
   "execution_count": 55,
   "metadata": {},
   "outputs": [
    {
     "data": {
      "text/html": [
       "<pre style=\"white-space:pre;overflow-x:auto;line-height:normal;font-family:Menlo,'DejaVu Sans Mono',consolas,'Courier New',monospace\"><span style=\"font-weight: bold\">Model: \"sequential\"</span>\n",
       "</pre>\n"
      ],
      "text/plain": [
       "\u001b[1mModel: \"sequential\"\u001b[0m\n"
      ]
     },
     "metadata": {},
     "output_type": "display_data"
    },
    {
     "data": {
      "text/html": [
       "<pre style=\"white-space:pre;overflow-x:auto;line-height:normal;font-family:Menlo,'DejaVu Sans Mono',consolas,'Courier New',monospace\">┏━━━━━━━━━━━━━━━━━━━━━━━━━━━━━━━━━┳━━━━━━━━━━━━━━━━━━━━━━━━┳━━━━━━━━━━━━━━━┓\n",
       "┃<span style=\"font-weight: bold\"> Layer (type)                    </span>┃<span style=\"font-weight: bold\"> Output Shape           </span>┃<span style=\"font-weight: bold\">       Param # </span>┃\n",
       "┡━━━━━━━━━━━━━━━━━━━━━━━━━━━━━━━━━╇━━━━━━━━━━━━━━━━━━━━━━━━╇━━━━━━━━━━━━━━━┩\n",
       "│ lstm (<span style=\"color: #0087ff; text-decoration-color: #0087ff\">LSTM</span>)                     │ (<span style=\"color: #00d7ff; text-decoration-color: #00d7ff\">None</span>, <span style=\"color: #00af00; text-decoration-color: #00af00\">100</span>, <span style=\"color: #00af00; text-decoration-color: #00af00\">50</span>)        │        <span style=\"color: #00af00; text-decoration-color: #00af00\">10,400</span> │\n",
       "├─────────────────────────────────┼────────────────────────┼───────────────┤\n",
       "│ lstm_1 (<span style=\"color: #0087ff; text-decoration-color: #0087ff\">LSTM</span>)                   │ (<span style=\"color: #00d7ff; text-decoration-color: #00d7ff\">None</span>, <span style=\"color: #00af00; text-decoration-color: #00af00\">100</span>, <span style=\"color: #00af00; text-decoration-color: #00af00\">50</span>)        │        <span style=\"color: #00af00; text-decoration-color: #00af00\">20,200</span> │\n",
       "├─────────────────────────────────┼────────────────────────┼───────────────┤\n",
       "│ lstm_2 (<span style=\"color: #0087ff; text-decoration-color: #0087ff\">LSTM</span>)                   │ (<span style=\"color: #00d7ff; text-decoration-color: #00d7ff\">None</span>, <span style=\"color: #00af00; text-decoration-color: #00af00\">50</span>)             │        <span style=\"color: #00af00; text-decoration-color: #00af00\">20,200</span> │\n",
       "├─────────────────────────────────┼────────────────────────┼───────────────┤\n",
       "│ dense (<span style=\"color: #0087ff; text-decoration-color: #0087ff\">Dense</span>)                   │ (<span style=\"color: #00d7ff; text-decoration-color: #00d7ff\">None</span>, <span style=\"color: #00af00; text-decoration-color: #00af00\">1</span>)              │            <span style=\"color: #00af00; text-decoration-color: #00af00\">51</span> │\n",
       "└─────────────────────────────────┴────────────────────────┴───────────────┘\n",
       "</pre>\n"
      ],
      "text/plain": [
       "┏━━━━━━━━━━━━━━━━━━━━━━━━━━━━━━━━━┳━━━━━━━━━━━━━━━━━━━━━━━━┳━━━━━━━━━━━━━━━┓\n",
       "┃\u001b[1m \u001b[0m\u001b[1mLayer (type)                   \u001b[0m\u001b[1m \u001b[0m┃\u001b[1m \u001b[0m\u001b[1mOutput Shape          \u001b[0m\u001b[1m \u001b[0m┃\u001b[1m \u001b[0m\u001b[1m      Param #\u001b[0m\u001b[1m \u001b[0m┃\n",
       "┡━━━━━━━━━━━━━━━━━━━━━━━━━━━━━━━━━╇━━━━━━━━━━━━━━━━━━━━━━━━╇━━━━━━━━━━━━━━━┩\n",
       "│ lstm (\u001b[38;5;33mLSTM\u001b[0m)                     │ (\u001b[38;5;45mNone\u001b[0m, \u001b[38;5;34m100\u001b[0m, \u001b[38;5;34m50\u001b[0m)        │        \u001b[38;5;34m10,400\u001b[0m │\n",
       "├─────────────────────────────────┼────────────────────────┼───────────────┤\n",
       "│ lstm_1 (\u001b[38;5;33mLSTM\u001b[0m)                   │ (\u001b[38;5;45mNone\u001b[0m, \u001b[38;5;34m100\u001b[0m, \u001b[38;5;34m50\u001b[0m)        │        \u001b[38;5;34m20,200\u001b[0m │\n",
       "├─────────────────────────────────┼────────────────────────┼───────────────┤\n",
       "│ lstm_2 (\u001b[38;5;33mLSTM\u001b[0m)                   │ (\u001b[38;5;45mNone\u001b[0m, \u001b[38;5;34m50\u001b[0m)             │        \u001b[38;5;34m20,200\u001b[0m │\n",
       "├─────────────────────────────────┼────────────────────────┼───────────────┤\n",
       "│ dense (\u001b[38;5;33mDense\u001b[0m)                   │ (\u001b[38;5;45mNone\u001b[0m, \u001b[38;5;34m1\u001b[0m)              │            \u001b[38;5;34m51\u001b[0m │\n",
       "└─────────────────────────────────┴────────────────────────┴───────────────┘\n"
      ]
     },
     "metadata": {},
     "output_type": "display_data"
    },
    {
     "data": {
      "text/html": [
       "<pre style=\"white-space:pre;overflow-x:auto;line-height:normal;font-family:Menlo,'DejaVu Sans Mono',consolas,'Courier New',monospace\"><span style=\"font-weight: bold\"> Total params: </span><span style=\"color: #00af00; text-decoration-color: #00af00\">50,851</span> (198.64 KB)\n",
       "</pre>\n"
      ],
      "text/plain": [
       "\u001b[1m Total params: \u001b[0m\u001b[38;5;34m50,851\u001b[0m (198.64 KB)\n"
      ]
     },
     "metadata": {},
     "output_type": "display_data"
    },
    {
     "data": {
      "text/html": [
       "<pre style=\"white-space:pre;overflow-x:auto;line-height:normal;font-family:Menlo,'DejaVu Sans Mono',consolas,'Courier New',monospace\"><span style=\"font-weight: bold\"> Trainable params: </span><span style=\"color: #00af00; text-decoration-color: #00af00\">50,851</span> (198.64 KB)\n",
       "</pre>\n"
      ],
      "text/plain": [
       "\u001b[1m Trainable params: \u001b[0m\u001b[38;5;34m50,851\u001b[0m (198.64 KB)\n"
      ]
     },
     "metadata": {},
     "output_type": "display_data"
    },
    {
     "data": {
      "text/html": [
       "<pre style=\"white-space:pre;overflow-x:auto;line-height:normal;font-family:Menlo,'DejaVu Sans Mono',consolas,'Courier New',monospace\"><span style=\"font-weight: bold\"> Non-trainable params: </span><span style=\"color: #00af00; text-decoration-color: #00af00\">0</span> (0.00 B)\n",
       "</pre>\n"
      ],
      "text/plain": [
       "\u001b[1m Non-trainable params: \u001b[0m\u001b[38;5;34m0\u001b[0m (0.00 B)\n"
      ]
     },
     "metadata": {},
     "output_type": "display_data"
    }
   ],
   "source": [
    "model.summary()"
   ]
  },
  {
   "cell_type": "code",
   "execution_count": 62,
   "metadata": {},
   "outputs": [
    {
     "name": "stdout",
     "output_type": "stream",
     "text": [
      "Epoch 1/100\n",
      "\u001b[1m12/12\u001b[0m \u001b[32m━━━━━━━━━━━━━━━━━━━━\u001b[0m\u001b[37m\u001b[0m \u001b[1m1s\u001b[0m 100ms/step - loss: 4.0320e-04 - val_loss: 7.0628e-04\n",
      "Epoch 2/100\n",
      "\u001b[1m12/12\u001b[0m \u001b[32m━━━━━━━━━━━━━━━━━━━━\u001b[0m\u001b[37m\u001b[0m \u001b[1m1s\u001b[0m 100ms/step - loss: 3.7862e-04 - val_loss: 0.0012\n",
      "Epoch 3/100\n",
      "\u001b[1m12/12\u001b[0m \u001b[32m━━━━━━━━━━━━━━━━━━━━\u001b[0m\u001b[37m\u001b[0m \u001b[1m1s\u001b[0m 110ms/step - loss: 3.9368e-04 - val_loss: 0.0014\n",
      "Epoch 4/100\n",
      "\u001b[1m12/12\u001b[0m \u001b[32m━━━━━━━━━━━━━━━━━━━━\u001b[0m\u001b[37m\u001b[0m \u001b[1m2s\u001b[0m 97ms/step - loss: 4.4398e-04 - val_loss: 9.7695e-04\n",
      "Epoch 5/100\n",
      "\u001b[1m12/12\u001b[0m \u001b[32m━━━━━━━━━━━━━━━━━━━━\u001b[0m\u001b[37m\u001b[0m \u001b[1m1s\u001b[0m 98ms/step - loss: 4.1212e-04 - val_loss: 0.0013\n",
      "Epoch 6/100\n",
      "\u001b[1m12/12\u001b[0m \u001b[32m━━━━━━━━━━━━━━━━━━━━\u001b[0m\u001b[37m\u001b[0m \u001b[1m1s\u001b[0m 112ms/step - loss: 4.2688e-04 - val_loss: 0.0021\n",
      "Epoch 7/100\n",
      "\u001b[1m12/12\u001b[0m \u001b[32m━━━━━━━━━━━━━━━━━━━━\u001b[0m\u001b[37m\u001b[0m \u001b[1m1s\u001b[0m 103ms/step - loss: 4.7682e-04 - val_loss: 9.0655e-04\n",
      "Epoch 8/100\n",
      "\u001b[1m12/12\u001b[0m \u001b[32m━━━━━━━━━━━━━━━━━━━━\u001b[0m\u001b[37m\u001b[0m \u001b[1m1s\u001b[0m 113ms/step - loss: 3.3318e-04 - val_loss: 4.1390e-04\n",
      "Epoch 9/100\n",
      "\u001b[1m12/12\u001b[0m \u001b[32m━━━━━━━━━━━━━━━━━━━━\u001b[0m\u001b[37m\u001b[0m \u001b[1m1s\u001b[0m 99ms/step - loss: 4.2090e-04 - val_loss: 6.0483e-04\n",
      "Epoch 10/100\n",
      "\u001b[1m12/12\u001b[0m \u001b[32m━━━━━━━━━━━━━━━━━━━━\u001b[0m\u001b[37m\u001b[0m \u001b[1m1s\u001b[0m 112ms/step - loss: 3.8984e-04 - val_loss: 0.0017\n",
      "Epoch 11/100\n",
      "\u001b[1m12/12\u001b[0m \u001b[32m━━━━━━━━━━━━━━━━━━━━\u001b[0m\u001b[37m\u001b[0m \u001b[1m1s\u001b[0m 95ms/step - loss: 3.6042e-04 - val_loss: 5.4053e-04\n",
      "Epoch 12/100\n",
      "\u001b[1m12/12\u001b[0m \u001b[32m━━━━━━━━━━━━━━━━━━━━\u001b[0m\u001b[37m\u001b[0m \u001b[1m1s\u001b[0m 94ms/step - loss: 3.2454e-04 - val_loss: 5.9262e-04\n",
      "Epoch 13/100\n",
      "\u001b[1m12/12\u001b[0m \u001b[32m━━━━━━━━━━━━━━━━━━━━\u001b[0m\u001b[37m\u001b[0m \u001b[1m1s\u001b[0m 96ms/step - loss: 3.4044e-04 - val_loss: 4.7397e-04\n",
      "Epoch 14/100\n",
      "\u001b[1m12/12\u001b[0m \u001b[32m━━━━━━━━━━━━━━━━━━━━\u001b[0m\u001b[37m\u001b[0m \u001b[1m2s\u001b[0m 130ms/step - loss: 3.2711e-04 - val_loss: 4.7444e-04\n",
      "Epoch 15/100\n",
      "\u001b[1m12/12\u001b[0m \u001b[32m━━━━━━━━━━━━━━━━━━━━\u001b[0m\u001b[37m\u001b[0m \u001b[1m2s\u001b[0m 156ms/step - loss: 3.9575e-04 - val_loss: 4.1546e-04\n",
      "Epoch 16/100\n",
      "\u001b[1m12/12\u001b[0m \u001b[32m━━━━━━━━━━━━━━━━━━━━\u001b[0m\u001b[37m\u001b[0m \u001b[1m1s\u001b[0m 116ms/step - loss: 3.6488e-04 - val_loss: 0.0014\n",
      "Epoch 17/100\n",
      "\u001b[1m12/12\u001b[0m \u001b[32m━━━━━━━━━━━━━━━━━━━━\u001b[0m\u001b[37m\u001b[0m \u001b[1m2s\u001b[0m 144ms/step - loss: 4.0664e-04 - val_loss: 6.5658e-04\n",
      "Epoch 18/100\n",
      "\u001b[1m12/12\u001b[0m \u001b[32m━━━━━━━━━━━━━━━━━━━━\u001b[0m\u001b[37m\u001b[0m \u001b[1m2s\u001b[0m 179ms/step - loss: 3.5622e-04 - val_loss: 0.0026\n",
      "Epoch 19/100\n",
      "\u001b[1m12/12\u001b[0m \u001b[32m━━━━━━━━━━━━━━━━━━━━\u001b[0m\u001b[37m\u001b[0m \u001b[1m2s\u001b[0m 129ms/step - loss: 4.8402e-04 - val_loss: 0.0012\n",
      "Epoch 20/100\n",
      "\u001b[1m12/12\u001b[0m \u001b[32m━━━━━━━━━━━━━━━━━━━━\u001b[0m\u001b[37m\u001b[0m \u001b[1m1s\u001b[0m 97ms/step - loss: 3.5748e-04 - val_loss: 9.2638e-04\n",
      "Epoch 21/100\n",
      "\u001b[1m12/12\u001b[0m \u001b[32m━━━━━━━━━━━━━━━━━━━━\u001b[0m\u001b[37m\u001b[0m \u001b[1m1s\u001b[0m 107ms/step - loss: 3.7842e-04 - val_loss: 5.6006e-04\n",
      "Epoch 22/100\n",
      "\u001b[1m12/12\u001b[0m \u001b[32m━━━━━━━━━━━━━━━━━━━━\u001b[0m\u001b[37m\u001b[0m \u001b[1m1s\u001b[0m 104ms/step - loss: 3.8840e-04 - val_loss: 4.6839e-04\n",
      "Epoch 23/100\n",
      "\u001b[1m12/12\u001b[0m \u001b[32m━━━━━━━━━━━━━━━━━━━━\u001b[0m\u001b[37m\u001b[0m \u001b[1m1s\u001b[0m 101ms/step - loss: 3.8292e-04 - val_loss: 3.6918e-04\n",
      "Epoch 24/100\n",
      "\u001b[1m12/12\u001b[0m \u001b[32m━━━━━━━━━━━━━━━━━━━━\u001b[0m\u001b[37m\u001b[0m \u001b[1m1s\u001b[0m 103ms/step - loss: 4.1974e-04 - val_loss: 3.6307e-04\n",
      "Epoch 25/100\n",
      "\u001b[1m12/12\u001b[0m \u001b[32m━━━━━━━━━━━━━━━━━━━━\u001b[0m\u001b[37m\u001b[0m \u001b[1m1s\u001b[0m 104ms/step - loss: 3.9438e-04 - val_loss: 9.1556e-04\n",
      "Epoch 26/100\n",
      "\u001b[1m12/12\u001b[0m \u001b[32m━━━━━━━━━━━━━━━━━━━━\u001b[0m\u001b[37m\u001b[0m \u001b[1m1s\u001b[0m 98ms/step - loss: 3.6221e-04 - val_loss: 9.7219e-04\n",
      "Epoch 27/100\n",
      "\u001b[1m12/12\u001b[0m \u001b[32m━━━━━━━━━━━━━━━━━━━━\u001b[0m\u001b[37m\u001b[0m \u001b[1m1s\u001b[0m 97ms/step - loss: 3.4135e-04 - val_loss: 5.9815e-04\n",
      "Epoch 28/100\n",
      "\u001b[1m12/12\u001b[0m \u001b[32m━━━━━━━━━━━━━━━━━━━━\u001b[0m\u001b[37m\u001b[0m \u001b[1m1s\u001b[0m 95ms/step - loss: 3.2027e-04 - val_loss: 0.0010\n",
      "Epoch 29/100\n",
      "\u001b[1m12/12\u001b[0m \u001b[32m━━━━━━━━━━━━━━━━━━━━\u001b[0m\u001b[37m\u001b[0m \u001b[1m1s\u001b[0m 99ms/step - loss: 3.6548e-04 - val_loss: 9.4664e-04\n",
      "Epoch 30/100\n",
      "\u001b[1m12/12\u001b[0m \u001b[32m━━━━━━━━━━━━━━━━━━━━\u001b[0m\u001b[37m\u001b[0m \u001b[1m1s\u001b[0m 114ms/step - loss: 3.2202e-04 - val_loss: 3.3712e-04\n",
      "Epoch 31/100\n",
      "\u001b[1m12/12\u001b[0m \u001b[32m━━━━━━━━━━━━━━━━━━━━\u001b[0m\u001b[37m\u001b[0m \u001b[1m1s\u001b[0m 103ms/step - loss: 3.6521e-04 - val_loss: 7.0507e-04\n",
      "Epoch 32/100\n",
      "\u001b[1m12/12\u001b[0m \u001b[32m━━━━━━━━━━━━━━━━━━━━\u001b[0m\u001b[37m\u001b[0m \u001b[1m1s\u001b[0m 100ms/step - loss: 3.0215e-04 - val_loss: 4.6417e-04\n",
      "Epoch 33/100\n",
      "\u001b[1m12/12\u001b[0m \u001b[32m━━━━━━━━━━━━━━━━━━━━\u001b[0m\u001b[37m\u001b[0m \u001b[1m1s\u001b[0m 118ms/step - loss: 3.1881e-04 - val_loss: 3.4827e-04\n",
      "Epoch 34/100\n",
      "\u001b[1m12/12\u001b[0m \u001b[32m━━━━━━━━━━━━━━━━━━━━\u001b[0m\u001b[37m\u001b[0m \u001b[1m1s\u001b[0m 98ms/step - loss: 3.5821e-04 - val_loss: 3.2785e-04\n",
      "Epoch 35/100\n",
      "\u001b[1m12/12\u001b[0m \u001b[32m━━━━━━━━━━━━━━━━━━━━\u001b[0m\u001b[37m\u001b[0m \u001b[1m1s\u001b[0m 101ms/step - loss: 3.3674e-04 - val_loss: 5.5984e-04\n",
      "Epoch 36/100\n",
      "\u001b[1m12/12\u001b[0m \u001b[32m━━━━━━━━━━━━━━━━━━━━\u001b[0m\u001b[37m\u001b[0m \u001b[1m1s\u001b[0m 97ms/step - loss: 2.9551e-04 - val_loss: 6.8372e-04\n",
      "Epoch 37/100\n",
      "\u001b[1m12/12\u001b[0m \u001b[32m━━━━━━━━━━━━━━━━━━━━\u001b[0m\u001b[37m\u001b[0m \u001b[1m1s\u001b[0m 100ms/step - loss: 2.9360e-04 - val_loss: 4.4329e-04\n",
      "Epoch 38/100\n",
      "\u001b[1m12/12\u001b[0m \u001b[32m━━━━━━━━━━━━━━━━━━━━\u001b[0m\u001b[37m\u001b[0m \u001b[1m1s\u001b[0m 99ms/step - loss: 2.8996e-04 - val_loss: 3.2161e-04\n",
      "Epoch 39/100\n",
      "\u001b[1m12/12\u001b[0m \u001b[32m━━━━━━━━━━━━━━━━━━━━\u001b[0m\u001b[37m\u001b[0m \u001b[1m1s\u001b[0m 103ms/step - loss: 3.1883e-04 - val_loss: 0.0010\n",
      "Epoch 40/100\n",
      "\u001b[1m12/12\u001b[0m \u001b[32m━━━━━━━━━━━━━━━━━━━━\u001b[0m\u001b[37m\u001b[0m \u001b[1m1s\u001b[0m 104ms/step - loss: 3.4230e-04 - val_loss: 6.5803e-04\n",
      "Epoch 41/100\n",
      "\u001b[1m12/12\u001b[0m \u001b[32m━━━━━━━━━━━━━━━━━━━━\u001b[0m\u001b[37m\u001b[0m \u001b[1m1s\u001b[0m 102ms/step - loss: 2.9412e-04 - val_loss: 4.6669e-04\n",
      "Epoch 42/100\n",
      "\u001b[1m12/12\u001b[0m \u001b[32m━━━━━━━━━━━━━━━━━━━━\u001b[0m\u001b[37m\u001b[0m \u001b[1m1s\u001b[0m 98ms/step - loss: 3.0701e-04 - val_loss: 3.1504e-04\n",
      "Epoch 43/100\n",
      "\u001b[1m12/12\u001b[0m \u001b[32m━━━━━━━━━━━━━━━━━━━━\u001b[0m\u001b[37m\u001b[0m \u001b[1m1s\u001b[0m 98ms/step - loss: 3.4223e-04 - val_loss: 7.0598e-04\n",
      "Epoch 44/100\n",
      "\u001b[1m12/12\u001b[0m \u001b[32m━━━━━━━━━━━━━━━━━━━━\u001b[0m\u001b[37m\u001b[0m \u001b[1m1s\u001b[0m 119ms/step - loss: 2.9240e-04 - val_loss: 6.4051e-04\n",
      "Epoch 45/100\n",
      "\u001b[1m12/12\u001b[0m \u001b[32m━━━━━━━━━━━━━━━━━━━━\u001b[0m\u001b[37m\u001b[0m \u001b[1m1s\u001b[0m 103ms/step - loss: 2.8407e-04 - val_loss: 6.8823e-04\n",
      "Epoch 46/100\n",
      "\u001b[1m12/12\u001b[0m \u001b[32m━━━━━━━━━━━━━━━━━━━━\u001b[0m\u001b[37m\u001b[0m \u001b[1m1s\u001b[0m 100ms/step - loss: 2.8876e-04 - val_loss: 0.0010\n",
      "Epoch 47/100\n",
      "\u001b[1m12/12\u001b[0m \u001b[32m━━━━━━━━━━━━━━━━━━━━\u001b[0m\u001b[37m\u001b[0m \u001b[1m1s\u001b[0m 104ms/step - loss: 3.1194e-04 - val_loss: 7.3185e-04\n",
      "Epoch 48/100\n",
      "\u001b[1m12/12\u001b[0m \u001b[32m━━━━━━━━━━━━━━━━━━━━\u001b[0m\u001b[37m\u001b[0m \u001b[1m1s\u001b[0m 106ms/step - loss: 3.2775e-04 - val_loss: 0.0011\n",
      "Epoch 49/100\n",
      "\u001b[1m12/12\u001b[0m \u001b[32m━━━━━━━━━━━━━━━━━━━━\u001b[0m\u001b[37m\u001b[0m \u001b[1m1s\u001b[0m 105ms/step - loss: 2.9988e-04 - val_loss: 0.0011\n",
      "Epoch 50/100\n",
      "\u001b[1m12/12\u001b[0m \u001b[32m━━━━━━━━━━━━━━━━━━━━\u001b[0m\u001b[37m\u001b[0m \u001b[1m1s\u001b[0m 101ms/step - loss: 3.0273e-04 - val_loss: 0.0017\n",
      "Epoch 51/100\n",
      "\u001b[1m12/12\u001b[0m \u001b[32m━━━━━━━━━━━━━━━━━━━━\u001b[0m\u001b[37m\u001b[0m \u001b[1m1s\u001b[0m 98ms/step - loss: 3.2422e-04 - val_loss: 0.0027\n",
      "Epoch 52/100\n",
      "\u001b[1m12/12\u001b[0m \u001b[32m━━━━━━━━━━━━━━━━━━━━\u001b[0m\u001b[37m\u001b[0m \u001b[1m1s\u001b[0m 99ms/step - loss: 4.1274e-04 - val_loss: 0.0021\n",
      "Epoch 53/100\n",
      "\u001b[1m12/12\u001b[0m \u001b[32m━━━━━━━━━━━━━━━━━━━━\u001b[0m\u001b[37m\u001b[0m \u001b[1m1s\u001b[0m 97ms/step - loss: 3.4041e-04 - val_loss: 0.0016\n",
      "Epoch 54/100\n",
      "\u001b[1m12/12\u001b[0m \u001b[32m━━━━━━━━━━━━━━━━━━━━\u001b[0m\u001b[37m\u001b[0m \u001b[1m1s\u001b[0m 98ms/step - loss: 3.8485e-04 - val_loss: 0.0014\n",
      "Epoch 55/100\n",
      "\u001b[1m12/12\u001b[0m \u001b[32m━━━━━━━━━━━━━━━━━━━━\u001b[0m\u001b[37m\u001b[0m \u001b[1m1s\u001b[0m 101ms/step - loss: 3.2528e-04 - val_loss: 4.0585e-04\n",
      "Epoch 56/100\n",
      "\u001b[1m12/12\u001b[0m \u001b[32m━━━━━━━━━━━━━━━━━━━━\u001b[0m\u001b[37m\u001b[0m \u001b[1m1s\u001b[0m 114ms/step - loss: 2.7143e-04 - val_loss: 3.6370e-04\n",
      "Epoch 57/100\n",
      "\u001b[1m12/12\u001b[0m \u001b[32m━━━━━━━━━━━━━━━━━━━━\u001b[0m\u001b[37m\u001b[0m \u001b[1m1s\u001b[0m 103ms/step - loss: 2.8551e-04 - val_loss: 2.9126e-04\n",
      "Epoch 58/100\n",
      "\u001b[1m12/12\u001b[0m \u001b[32m━━━━━━━━━━━━━━━━━━━━\u001b[0m\u001b[37m\u001b[0m \u001b[1m1s\u001b[0m 104ms/step - loss: 3.1388e-04 - val_loss: 4.8601e-04\n",
      "Epoch 59/100\n",
      "\u001b[1m12/12\u001b[0m \u001b[32m━━━━━━━━━━━━━━━━━━━━\u001b[0m\u001b[37m\u001b[0m \u001b[1m1s\u001b[0m 98ms/step - loss: 3.1286e-04 - val_loss: 5.1705e-04\n",
      "Epoch 60/100\n",
      "\u001b[1m12/12\u001b[0m \u001b[32m━━━━━━━━━━━━━━━━━━━━\u001b[0m\u001b[37m\u001b[0m \u001b[1m1s\u001b[0m 101ms/step - loss: 3.0841e-04 - val_loss: 3.5495e-04\n",
      "Epoch 61/100\n",
      "\u001b[1m12/12\u001b[0m \u001b[32m━━━━━━━━━━━━━━━━━━━━\u001b[0m\u001b[37m\u001b[0m \u001b[1m1s\u001b[0m 97ms/step - loss: 3.5802e-04 - val_loss: 0.0015\n",
      "Epoch 62/100\n",
      "\u001b[1m12/12\u001b[0m \u001b[32m━━━━━━━━━━━━━━━━━━━━\u001b[0m\u001b[37m\u001b[0m \u001b[1m1s\u001b[0m 100ms/step - loss: 3.0675e-04 - val_loss: 0.0015\n",
      "Epoch 63/100\n",
      "\u001b[1m12/12\u001b[0m \u001b[32m━━━━━━━━━━━━━━━━━━━━\u001b[0m\u001b[37m\u001b[0m \u001b[1m1s\u001b[0m 102ms/step - loss: 3.0414e-04 - val_loss: 0.0011\n",
      "Epoch 64/100\n",
      "\u001b[1m12/12\u001b[0m \u001b[32m━━━━━━━━━━━━━━━━━━━━\u001b[0m\u001b[37m\u001b[0m \u001b[1m1s\u001b[0m 105ms/step - loss: 2.9157e-04 - val_loss: 8.2568e-04\n",
      "Epoch 65/100\n",
      "\u001b[1m12/12\u001b[0m \u001b[32m━━━━━━━━━━━━━━━━━━━━\u001b[0m\u001b[37m\u001b[0m \u001b[1m1s\u001b[0m 113ms/step - loss: 2.6829e-04 - val_loss: 4.1794e-04\n",
      "Epoch 66/100\n",
      "\u001b[1m12/12\u001b[0m \u001b[32m━━━━━━━━━━━━━━━━━━━━\u001b[0m\u001b[37m\u001b[0m \u001b[1m1s\u001b[0m 112ms/step - loss: 2.5289e-04 - val_loss: 3.4311e-04\n",
      "Epoch 67/100\n",
      "\u001b[1m12/12\u001b[0m \u001b[32m━━━━━━━━━━━━━━━━━━━━\u001b[0m\u001b[37m\u001b[0m \u001b[1m1s\u001b[0m 101ms/step - loss: 2.9457e-04 - val_loss: 3.9234e-04\n",
      "Epoch 68/100\n",
      "\u001b[1m12/12\u001b[0m \u001b[32m━━━━━━━━━━━━━━━━━━━━\u001b[0m\u001b[37m\u001b[0m \u001b[1m1s\u001b[0m 98ms/step - loss: 2.6674e-04 - val_loss: 3.1056e-04\n",
      "Epoch 69/100\n",
      "\u001b[1m12/12\u001b[0m \u001b[32m━━━━━━━━━━━━━━━━━━━━\u001b[0m\u001b[37m\u001b[0m \u001b[1m1s\u001b[0m 100ms/step - loss: 2.5537e-04 - val_loss: 6.4956e-04\n",
      "Epoch 70/100\n",
      "\u001b[1m12/12\u001b[0m \u001b[32m━━━━━━━━━━━━━━━━━━━━\u001b[0m\u001b[37m\u001b[0m \u001b[1m1s\u001b[0m 101ms/step - loss: 2.5632e-04 - val_loss: 3.7732e-04\n",
      "Epoch 71/100\n",
      "\u001b[1m12/12\u001b[0m \u001b[32m━━━━━━━━━━━━━━━━━━━━\u001b[0m\u001b[37m\u001b[0m \u001b[1m1s\u001b[0m 116ms/step - loss: 2.4525e-04 - val_loss: 5.0450e-04\n",
      "Epoch 72/100\n",
      "\u001b[1m12/12\u001b[0m \u001b[32m━━━━━━━━━━━━━━━━━━━━\u001b[0m\u001b[37m\u001b[0m \u001b[1m1s\u001b[0m 103ms/step - loss: 2.7227e-04 - val_loss: 4.9221e-04\n",
      "Epoch 73/100\n",
      "\u001b[1m12/12\u001b[0m \u001b[32m━━━━━━━━━━━━━━━━━━━━\u001b[0m\u001b[37m\u001b[0m \u001b[1m1s\u001b[0m 105ms/step - loss: 2.7382e-04 - val_loss: 0.0012\n",
      "Epoch 74/100\n",
      "\u001b[1m12/12\u001b[0m \u001b[32m━━━━━━━━━━━━━━━━━━━━\u001b[0m\u001b[37m\u001b[0m \u001b[1m1s\u001b[0m 102ms/step - loss: 2.7366e-04 - val_loss: 0.0023\n",
      "Epoch 75/100\n",
      "\u001b[1m12/12\u001b[0m \u001b[32m━━━━━━━━━━━━━━━━━━━━\u001b[0m\u001b[37m\u001b[0m \u001b[1m1s\u001b[0m 101ms/step - loss: 3.7506e-04 - val_loss: 5.7275e-04\n",
      "Epoch 76/100\n",
      "\u001b[1m12/12\u001b[0m \u001b[32m━━━━━━━━━━━━━━━━━━━━\u001b[0m\u001b[37m\u001b[0m \u001b[1m1s\u001b[0m 108ms/step - loss: 2.7511e-04 - val_loss: 3.1439e-04\n",
      "Epoch 77/100\n",
      "\u001b[1m12/12\u001b[0m \u001b[32m━━━━━━━━━━━━━━━━━━━━\u001b[0m\u001b[37m\u001b[0m \u001b[1m1s\u001b[0m 99ms/step - loss: 2.8432e-04 - val_loss: 3.3406e-04\n",
      "Epoch 78/100\n",
      "\u001b[1m12/12\u001b[0m \u001b[32m━━━━━━━━━━━━━━━━━━━━\u001b[0m\u001b[37m\u001b[0m \u001b[1m1s\u001b[0m 99ms/step - loss: 2.7494e-04 - val_loss: 2.7747e-04\n",
      "Epoch 79/100\n",
      "\u001b[1m12/12\u001b[0m \u001b[32m━━━━━━━━━━━━━━━━━━━━\u001b[0m\u001b[37m\u001b[0m \u001b[1m1s\u001b[0m 100ms/step - loss: 2.8234e-04 - val_loss: 4.0577e-04\n",
      "Epoch 80/100\n",
      "\u001b[1m12/12\u001b[0m \u001b[32m━━━━━━━━━━━━━━━━━━━━\u001b[0m\u001b[37m\u001b[0m \u001b[1m1s\u001b[0m 106ms/step - loss: 2.6134e-04 - val_loss: 2.9211e-04\n",
      "Epoch 81/100\n",
      "\u001b[1m12/12\u001b[0m \u001b[32m━━━━━━━━━━━━━━━━━━━━\u001b[0m\u001b[37m\u001b[0m \u001b[1m1s\u001b[0m 102ms/step - loss: 2.5569e-04 - val_loss: 2.9584e-04\n",
      "Epoch 82/100\n",
      "\u001b[1m12/12\u001b[0m \u001b[32m━━━━━━━━━━━━━━━━━━━━\u001b[0m\u001b[37m\u001b[0m \u001b[1m1s\u001b[0m 107ms/step - loss: 2.4962e-04 - val_loss: 3.7573e-04\n",
      "Epoch 83/100\n",
      "\u001b[1m12/12\u001b[0m \u001b[32m━━━━━━━━━━━━━━━━━━━━\u001b[0m\u001b[37m\u001b[0m \u001b[1m1s\u001b[0m 102ms/step - loss: 2.4669e-04 - val_loss: 2.8892e-04\n",
      "Epoch 84/100\n",
      "\u001b[1m12/12\u001b[0m \u001b[32m━━━━━━━━━━━━━━━━━━━━\u001b[0m\u001b[37m\u001b[0m \u001b[1m1s\u001b[0m 104ms/step - loss: 2.4398e-04 - val_loss: 3.1116e-04\n",
      "Epoch 85/100\n",
      "\u001b[1m12/12\u001b[0m \u001b[32m━━━━━━━━━━━━━━━━━━━━\u001b[0m\u001b[37m\u001b[0m \u001b[1m1s\u001b[0m 105ms/step - loss: 2.3813e-04 - val_loss: 7.6599e-04\n",
      "Epoch 86/100\n",
      "\u001b[1m12/12\u001b[0m \u001b[32m━━━━━━━━━━━━━━━━━━━━\u001b[0m\u001b[37m\u001b[0m \u001b[1m2s\u001b[0m 129ms/step - loss: 2.3619e-04 - val_loss: 2.8874e-04\n",
      "Epoch 87/100\n",
      "\u001b[1m12/12\u001b[0m \u001b[32m━━━━━━━━━━━━━━━━━━━━\u001b[0m\u001b[37m\u001b[0m \u001b[1m1s\u001b[0m 115ms/step - loss: 2.4377e-04 - val_loss: 4.6012e-04\n",
      "Epoch 88/100\n",
      "\u001b[1m12/12\u001b[0m \u001b[32m━━━━━━━━━━━━━━━━━━━━\u001b[0m\u001b[37m\u001b[0m \u001b[1m1s\u001b[0m 124ms/step - loss: 2.2504e-04 - val_loss: 8.6713e-04\n",
      "Epoch 89/100\n",
      "\u001b[1m12/12\u001b[0m \u001b[32m━━━━━━━━━━━━━━━━━━━━\u001b[0m\u001b[37m\u001b[0m \u001b[1m1s\u001b[0m 109ms/step - loss: 2.3141e-04 - val_loss: 0.0015\n",
      "Epoch 90/100\n",
      "\u001b[1m12/12\u001b[0m \u001b[32m━━━━━━━━━━━━━━━━━━━━\u001b[0m\u001b[37m\u001b[0m \u001b[1m1s\u001b[0m 105ms/step - loss: 3.1865e-04 - val_loss: 9.9406e-04\n",
      "Epoch 91/100\n",
      "\u001b[1m12/12\u001b[0m \u001b[32m━━━━━━━━━━━━━━━━━━━━\u001b[0m\u001b[37m\u001b[0m \u001b[1m1s\u001b[0m 98ms/step - loss: 2.6496e-04 - val_loss: 6.8782e-04\n",
      "Epoch 92/100\n",
      "\u001b[1m12/12\u001b[0m \u001b[32m━━━━━━━━━━━━━━━━━━━━\u001b[0m\u001b[37m\u001b[0m \u001b[1m1s\u001b[0m 114ms/step - loss: 2.6570e-04 - val_loss: 4.1482e-04\n",
      "Epoch 93/100\n",
      "\u001b[1m12/12\u001b[0m \u001b[32m━━━━━━━━━━━━━━━━━━━━\u001b[0m\u001b[37m\u001b[0m \u001b[1m1s\u001b[0m 98ms/step - loss: 2.6965e-04 - val_loss: 4.0141e-04\n",
      "Epoch 94/100\n",
      "\u001b[1m12/12\u001b[0m \u001b[32m━━━━━━━━━━━━━━━━━━━━\u001b[0m\u001b[37m\u001b[0m \u001b[1m1s\u001b[0m 112ms/step - loss: 2.5633e-04 - val_loss: 2.9088e-04\n",
      "Epoch 95/100\n",
      "\u001b[1m12/12\u001b[0m \u001b[32m━━━━━━━━━━━━━━━━━━━━\u001b[0m\u001b[37m\u001b[0m \u001b[1m1s\u001b[0m 117ms/step - loss: 2.7375e-04 - val_loss: 8.6253e-04\n",
      "Epoch 96/100\n",
      "\u001b[1m12/12\u001b[0m \u001b[32m━━━━━━━━━━━━━━━━━━━━\u001b[0m\u001b[37m\u001b[0m \u001b[1m2s\u001b[0m 145ms/step - loss: 2.2723e-04 - val_loss: 4.6359e-04\n",
      "Epoch 97/100\n",
      "\u001b[1m12/12\u001b[0m \u001b[32m━━━━━━━━━━━━━━━━━━━━\u001b[0m\u001b[37m\u001b[0m \u001b[1m2s\u001b[0m 123ms/step - loss: 2.3277e-04 - val_loss: 2.8483e-04\n",
      "Epoch 98/100\n",
      "\u001b[1m12/12\u001b[0m \u001b[32m━━━━━━━━━━━━━━━━━━━━\u001b[0m\u001b[37m\u001b[0m \u001b[1m1s\u001b[0m 94ms/step - loss: 3.1536e-04 - val_loss: 4.7825e-04\n",
      "Epoch 99/100\n",
      "\u001b[1m12/12\u001b[0m \u001b[32m━━━━━━━━━━━━━━━━━━━━\u001b[0m\u001b[37m\u001b[0m \u001b[1m2s\u001b[0m 129ms/step - loss: 2.3969e-04 - val_loss: 0.0011\n",
      "Epoch 100/100\n",
      "\u001b[1m12/12\u001b[0m \u001b[32m━━━━━━━━━━━━━━━━━━━━\u001b[0m\u001b[37m\u001b[0m \u001b[1m2s\u001b[0m 176ms/step - loss: 2.3380e-04 - val_loss: 4.1947e-04\n"
     ]
    },
    {
     "data": {
      "text/plain": [
       "<keras.src.callbacks.history.History at 0x7caa64ee8a40>"
      ]
     },
     "execution_count": 62,
     "metadata": {},
     "output_type": "execute_result"
    }
   ],
   "source": [
    "model.fit(X_train,y_train,validation_data=(X_test,y_test),epochs =100,batch_size=64,verbose= 1)"
   ]
  },
  {
   "cell_type": "code",
   "execution_count": 57,
   "metadata": {},
   "outputs": [
    {
     "name": "stdout",
     "output_type": "stream",
     "text": [
      "\u001b[1m23/23\u001b[0m \u001b[32m━━━━━━━━━━━━━━━━━━━━\u001b[0m\u001b[37m\u001b[0m \u001b[1m1s\u001b[0m 30ms/step\n",
      "\u001b[1m11/11\u001b[0m \u001b[32m━━━━━━━━━━━━━━━━━━━━\u001b[0m\u001b[37m\u001b[0m \u001b[1m0s\u001b[0m 19ms/step\n"
     ]
    }
   ],
   "source": [
    "## Lets do the prediction and check performance metrics\n",
    "train_predict = model.predict(X_train)\n",
    "test_predict = model.predict(X_test)"
   ]
  },
  {
   "cell_type": "code",
   "execution_count": 59,
   "metadata": {},
   "outputs": [],
   "source": [
    "##Transformback to original form\n",
    "train_predict = scaler.inverse_transform(train_predict)\n",
    "test_predict = scaler.inverse_transform(test_predict)"
   ]
  },
  {
   "cell_type": "code",
   "execution_count": 60,
   "metadata": {},
   "outputs": [
    {
     "data": {
      "text/plain": [
       "137.0501603290389"
      ]
     },
     "execution_count": 60,
     "metadata": {},
     "output_type": "execute_result"
    }
   ],
   "source": [
    "## Calculate RMSE performance metrics\n",
    "import math\n",
    "from sklearn.metrics import mean_squared_error\n",
    "math.sqrt(mean_squared_error(y_train,train_predict))"
   ]
  },
  {
   "cell_type": "code",
   "execution_count": 61,
   "metadata": {},
   "outputs": [
    {
     "data": {
      "text/plain": [
       "195.54660557219347"
      ]
     },
     "execution_count": 61,
     "metadata": {},
     "output_type": "execute_result"
    }
   ],
   "source": [
    "### test Data rmse\n",
    "math.sqrt(mean_squared_error(y_test,test_predict))"
   ]
  },
  {
   "cell_type": "code",
   "execution_count": 68,
   "metadata": {},
   "outputs": [
    {
     "data": {
      "image/png": "[encoded data removed]",
      "text/plain": [
       "<Figure size 1700x800 with 1 Axes>"
      ]
     },
     "metadata": {},
     "output_type": "display_data"
    }
   ],
   "source": [
    "### Plotting \n",
    "#shift train prediction for plotting\n",
    "look_back = 99\n",
    "trainPredictPlot = np.empty_like(df1)\n",
    "trainPredictPlot[:,:]=np.nan\n",
    "trainPredictPlot[look_back:len(train_predict)+look_back,:] = train_predict\n",
    "\n",
    "#shift test predictions for plotting\n",
    "testPredictPlot =np.empty_like(df1)\n",
    "testPredictPlot[:,:] = np.nan\n",
    "testPredictPlot[len(train_predict)+(look_back*2)+1:len(df1)-1,:] = test_predict\n",
    "\n",
    "#plot baseline and predicted\n",
    "plt.figure(figsize=(17,8))\n",
    "plt.plot(scaler.inverse_transform(df1))\n",
    "plt.plot(trainPredictPlot)\n",
    "plt.plot(testPredictPlot)\n",
    "plt.show()\n"
   ]
  },
  {
   "cell_type": "code",
   "execution_count": 69,
   "metadata": {},
   "outputs": [
    {
     "data": {
      "text/plain": [
       "441"
      ]
     },
     "execution_count": 69,
     "metadata": {},
     "output_type": "execute_result"
    }
   ],
   "source": [
    "# Predicting the next 100 daya\n",
    "len(test_data)"
   ]
  },
  {
   "cell_type": "code",
   "execution_count": 70,
   "metadata": {},
   "outputs": [
    {
     "data": {
      "text/plain": [
       "(1, 100)"
      ]
     },
     "execution_count": 70,
     "metadata": {},
     "output_type": "execute_result"
    }
   ],
   "source": [
    "X_input = test_data[341:].reshape(1,-1)\n",
    "X_input.shape"
   ]
  },
  {
   "cell_type": "code",
   "execution_count": 71,
   "metadata": {},
   "outputs": [],
   "source": [
    "temp_input = list(X_input)\n",
    "temp_input = temp_input[0].tolist()"
   ]
  },
  {
   "cell_type": "code",
   "execution_count": 87,
   "metadata": {},
   "outputs": [
    {
     "name": "stdout",
     "output_type": "stream",
     "text": [
      "0 day input [0.82487159 0.82130603 0.84455555 0.84323534 0.82988636 0.82988636\n",
      " 0.83423822 0.84939642 0.83365143 0.84841846 0.84968975 0.85321035\n",
      " 0.85086333 0.85746443 0.87213362 0.88284212 0.88220648 0.89394186\n",
      " 0.9049926  0.91995518 0.92171548 0.92186218 0.92088422 0.94000312\n",
      " 0.94499062 0.93873176 0.94591973 0.94675092 0.96098001 0.97291094\n",
      " 0.94635975 0.95486785 0.97784967 0.98166366 0.99599061 1.\n",
      " 0.98322834 0.96665216 0.95794843 0.92130709 0.89384657 0.8678717\n",
      " 0.84491521 0.82453042 0.80621105 0.78937614 0.77353835 0.7583732\n",
      " 0.74372292 0.72956502 0.71596825 0.70304406 0.69091249 0.67967379\n",
      " 0.66939735 0.66011691 0.65183252 0.64451867 0.6381309  0.632613\n",
      " 0.62790316 0.62393737 0.62065238 0.61798632 0.61587989 0.61427569\n",
      " 0.61311871 0.61235565 0.61193484 0.61180645 0.61192298 0.612239\n",
      " 0.61271191 0.61330169 0.61397189 0.61468893 0.6154229  0.61614728\n",
      " 0.61683905 0.61747843 0.61804879 0.61853689 0.61893177 0.61922586\n",
      " 0.61941367 0.61949182 0.61945903 0.61931598 0.61906481 0.61870915\n",
      " 0.61825371 0.61770427 0.61706734 0.61635023 0.61556053 0.61470622\n",
      " 0.61379576 0.61283731 0.61183894 0.61080855]\n",
      "0 day output [[0.60975426]]\n",
      "1 day input [0.82130603 0.84455555 0.84323534 0.82988636 0.82988636 0.83423822\n",
      " 0.84939642 0.83365143 0.84841846 0.84968975 0.85321035 0.85086333\n",
      " 0.85746443 0.87213362 0.88284212 0.88220648 0.89394186 0.9049926\n",
      " 0.91995518 0.92171548 0.92186218 0.92088422 0.94000312 0.94499062\n",
      " 0.93873176 0.94591973 0.94675092 0.96098001 0.97291094 0.94635975\n",
      " 0.95486785 0.97784967 0.98166366 0.99599061 1.         0.98322834\n",
      " 0.96665216 0.95794843 0.92130709 0.89384657 0.8678717  0.84491521\n",
      " 0.82453042 0.80621105 0.78937614 0.77353835 0.7583732  0.74372292\n",
      " 0.72956502 0.71596825 0.70304406 0.69091249 0.67967379 0.66939735\n",
      " 0.66011691 0.65183252 0.64451867 0.6381309  0.632613   0.62790316\n",
      " 0.62393737 0.62065238 0.61798632 0.61587989 0.61427569 0.61311871\n",
      " 0.61235565 0.61193484 0.61180645 0.61192298 0.612239   0.61271191\n",
      " 0.61330169 0.61397189 0.61468893 0.6154229  0.61614728 0.61683905\n",
      " 0.61747843 0.61804879 0.61853689 0.61893177 0.61922586 0.61941367\n",
      " 0.61949182 0.61945903 0.61931598 0.61906481 0.61870915 0.61825371\n",
      " 0.61770427 0.61706734 0.61635023 0.61556053 0.61470622 0.61379576\n",
      " 0.61283731 0.61183894 0.61080855 0.60975426]\n",
      "1 day output [[0.60868305]]\n",
      "2 day input [0.84455555 0.84323534 0.82988636 0.82988636 0.83423822 0.84939642\n",
      " 0.83365143 0.84841846 0.84968975 0.85321035 0.85086333 0.85746443\n",
      " 0.87213362 0.88284212 0.88220648 0.89394186 0.9049926  0.91995518\n",
      " 0.92171548 0.92186218 0.92088422 0.94000312 0.94499062 0.93873176\n",
      " 0.94591973 0.94675092 0.96098001 0.97291094 0.94635975 0.95486785\n",
      " 0.97784967 0.98166366 0.99599061 1.         0.98322834 0.96665216\n",
      " 0.95794843 0.92130709 0.89384657 0.8678717  0.84491521 0.82453042\n",
      " 0.80621105 0.78937614 0.77353835 0.7583732  0.74372292 0.72956502\n",
      " 0.71596825 0.70304406 0.69091249 0.67967379 0.66939735 0.66011691\n",
      " 0.65183252 0.64451867 0.6381309  0.632613   0.62790316 0.62393737\n",
      " 0.62065238 0.61798632 0.61587989 0.61427569 0.61311871 0.61235565\n",
      " 0.61193484 0.61180645 0.61192298 0.612239   0.61271191 0.61330169\n",
      " 0.61397189 0.61468893 0.6154229  0.61614728 0.61683905 0.61747843\n",
      " 0.61804879 0.61853689 0.61893177 0.61922586 0.61941367 0.61949182\n",
      " 0.61945903 0.61931598 0.61906481 0.61870915 0.61825371 0.61770427\n",
      " 0.61706734 0.61635023 0.61556053 0.61470622 0.61379576 0.61283731\n",
      " 0.61183894 0.61080855 0.60975426 0.60868305]\n",
      "2 day output [[0.60760236]]\n",
      "3 day input [0.84323534 0.82988636 0.82988636 0.83423822 0.84939642 0.83365143\n",
      " 0.84841846 0.84968975 0.85321035 0.85086333 0.85746443 0.87213362\n",
      " 0.88284212 0.88220648 0.89394186 0.9049926  0.91995518 0.92171548\n",
      " 0.92186218 0.92088422 0.94000312 0.94499062 0.93873176 0.94591973\n",
      " 0.94675092 0.96098001 0.97291094 0.94635975 0.95486785 0.97784967\n",
      " 0.98166366 0.99599061 1.         0.98322834 0.96665216 0.95794843\n",
      " 0.92130709 0.89384657 0.8678717  0.84491521 0.82453042 0.80621105\n",
      " 0.78937614 0.77353835 0.7583732  0.74372292 0.72956502 0.71596825\n",
      " 0.70304406 0.69091249 0.67967379 0.66939735 0.66011691 0.65183252\n",
      " 0.64451867 0.6381309  0.632613   0.62790316 0.62393737 0.62065238\n",
      " 0.61798632 0.61587989 0.61427569 0.61311871 0.61235565 0.61193484\n",
      " 0.61180645 0.61192298 0.612239   0.61271191 0.61330169 0.61397189\n",
      " 0.61468893 0.6154229  0.61614728 0.61683905 0.61747843 0.61804879\n",
      " 0.61853689 0.61893177 0.61922586 0.61941367 0.61949182 0.61945903\n",
      " 0.61931598 0.61906481 0.61870915 0.61825371 0.61770427 0.61706734\n",
      " 0.61635023 0.61556053 0.61470622 0.61379576 0.61283731 0.61183894\n",
      " 0.61080855 0.60975426 0.60868305 0.60760236]\n",
      "3 day output [[0.6065187]]\n",
      "4 day input [0.82988636 0.82988636 0.83423822 0.84939642 0.83365143 0.84841846\n",
      " 0.84968975 0.85321035 0.85086333 0.85746443 0.87213362 0.88284212\n",
      " 0.88220648 0.89394186 0.9049926  0.91995518 0.92171548 0.92186218\n",
      " 0.92088422 0.94000312 0.94499062 0.93873176 0.94591973 0.94675092\n",
      " 0.96098001 0.97291094 0.94635975 0.95486785 0.97784967 0.98166366\n",
      " 0.99599061 1.         0.98322834 0.96665216 0.95794843 0.92130709\n",
      " 0.89384657 0.8678717  0.84491521 0.82453042 0.80621105 0.78937614\n",
      " 0.77353835 0.7583732  0.74372292 0.72956502 0.71596825 0.70304406\n",
      " 0.69091249 0.67967379 0.66939735 0.66011691 0.65183252 0.64451867\n",
      " 0.6381309  0.632613   0.62790316 0.62393737 0.62065238 0.61798632\n",
      " 0.61587989 0.61427569 0.61311871 0.61235565 0.61193484 0.61180645\n",
      " 0.61192298 0.612239   0.61271191 0.61330169 0.61397189 0.61468893\n",
      " 0.6154229  0.61614728 0.61683905 0.61747843 0.61804879 0.61853689\n",
      " 0.61893177 0.61922586 0.61941367 0.61949182 0.61945903 0.61931598\n",
      " 0.61906481 0.61870915 0.61825371 0.61770427 0.61706734 0.61635023\n",
      " 0.61556053 0.61470622 0.61379576 0.61283731 0.61183894 0.61080855\n",
      " 0.60975426 0.60868305 0.60760236 0.60651869]\n",
      "4 day output [[0.6054382]]\n",
      "5 day input [0.82988636 0.83423822 0.84939642 0.83365143 0.84841846 0.84968975\n",
      " 0.85321035 0.85086333 0.85746443 0.87213362 0.88284212 0.88220648\n",
      " 0.89394186 0.9049926  0.91995518 0.92171548 0.92186218 0.92088422\n",
      " 0.94000312 0.94499062 0.93873176 0.94591973 0.94675092 0.96098001\n",
      " 0.97291094 0.94635975 0.95486785 0.97784967 0.98166366 0.99599061\n",
      " 1.         0.98322834 0.96665216 0.95794843 0.92130709 0.89384657\n",
      " 0.8678717  0.84491521 0.82453042 0.80621105 0.78937614 0.77353835\n",
      " 0.7583732  0.74372292 0.72956502 0.71596825 0.70304406 0.69091249\n",
      " 0.67967379 0.66939735 0.66011691 0.65183252 0.64451867 0.6381309\n",
      " 0.632613   0.62790316 0.62393737 0.62065238 0.61798632 0.61587989\n",
      " 0.61427569 0.61311871 0.61235565 0.61193484 0.61180645 0.61192298\n",
      " 0.612239   0.61271191 0.61330169 0.61397189 0.61468893 0.6154229\n",
      " 0.61614728 0.61683905 0.61747843 0.61804879 0.61853689 0.61893177\n",
      " 0.61922586 0.61941367 0.61949182 0.61945903 0.61931598 0.61906481\n",
      " 0.61870915 0.61825371 0.61770427 0.61706734 0.61635023 0.61556053\n",
      " 0.61470622 0.61379576 0.61283731 0.61183894 0.61080855 0.60975426\n",
      " 0.60868305 0.60760236 0.60651869 0.60543817]\n",
      "5 day output [[0.6043663]]\n",
      "6 day input [0.83423822 0.84939642 0.83365143 0.84841846 0.84968975 0.85321035\n",
      " 0.85086333 0.85746443 0.87213362 0.88284212 0.88220648 0.89394186\n",
      " 0.9049926  0.91995518 0.92171548 0.92186218 0.92088422 0.94000312\n",
      " 0.94499062 0.93873176 0.94591973 0.94675092 0.96098001 0.97291094\n",
      " 0.94635975 0.95486785 0.97784967 0.98166366 0.99599061 1.\n",
      " 0.98322834 0.96665216 0.95794843 0.92130709 0.89384657 0.8678717\n",
      " 0.84491521 0.82453042 0.80621105 0.78937614 0.77353835 0.7583732\n",
      " 0.74372292 0.72956502 0.71596825 0.70304406 0.69091249 0.67967379\n",
      " 0.66939735 0.66011691 0.65183252 0.64451867 0.6381309  0.632613\n",
      " 0.62790316 0.62393737 0.62065238 0.61798632 0.61587989 0.61427569\n",
      " 0.61311871 0.61235565 0.61193484 0.61180645 0.61192298 0.612239\n",
      " 0.61271191 0.61330169 0.61397189 0.61468893 0.6154229  0.61614728\n",
      " 0.61683905 0.61747843 0.61804879 0.61853689 0.61893177 0.61922586\n",
      " 0.61941367 0.61949182 0.61945903 0.61931598 0.61906481 0.61870915\n",
      " 0.61825371 0.61770427 0.61706734 0.61635023 0.61556053 0.61470622\n",
      " 0.61379576 0.61283731 0.61183894 0.61080855 0.60975426 0.60868305\n",
      " 0.60760236 0.60651869 0.60543817 0.6043663 ]\n",
      "6 day output [[0.6033083]]\n",
      "7 day input [0.84939642 0.83365143 0.84841846 0.84968975 0.85321035 0.85086333\n",
      " 0.85746443 0.87213362 0.88284212 0.88220648 0.89394186 0.9049926\n",
      " 0.91995518 0.92171548 0.92186218 0.92088422 0.94000312 0.94499062\n",
      " 0.93873176 0.94591973 0.94675092 0.96098001 0.97291094 0.94635975\n",
      " 0.95486785 0.97784967 0.98166366 0.99599061 1.         0.98322834\n",
      " 0.96665216 0.95794843 0.92130709 0.89384657 0.8678717  0.84491521\n",
      " 0.82453042 0.80621105 0.78937614 0.77353835 0.7583732  0.74372292\n",
      " 0.72956502 0.71596825 0.70304406 0.69091249 0.67967379 0.66939735\n",
      " 0.66011691 0.65183252 0.64451867 0.6381309  0.632613   0.62790316\n",
      " 0.62393737 0.62065238 0.61798632 0.61587989 0.61427569 0.61311871\n",
      " 0.61235565 0.61193484 0.61180645 0.61192298 0.612239   0.61271191\n",
      " 0.61330169 0.61397189 0.61468893 0.6154229  0.61614728 0.61683905\n",
      " 0.61747843 0.61804879 0.61853689 0.61893177 0.61922586 0.61941367\n",
      " 0.61949182 0.61945903 0.61931598 0.61906481 0.61870915 0.61825371\n",
      " 0.61770427 0.61706734 0.61635023 0.61556053 0.61470622 0.61379576\n",
      " 0.61283731 0.61183894 0.61080855 0.60975426 0.60868305 0.60760236\n",
      " 0.60651869 0.60543817 0.6043663  0.60330832]\n",
      "7 day output [[0.60226864]]\n",
      "8 day input [0.83365143 0.84841846 0.84968975 0.85321035 0.85086333 0.85746443\n",
      " 0.87213362 0.88284212 0.88220648 0.89394186 0.9049926  0.91995518\n",
      " 0.92171548 0.92186218 0.92088422 0.94000312 0.94499062 0.93873176\n",
      " 0.94591973 0.94675092 0.96098001 0.97291094 0.94635975 0.95486785\n",
      " 0.97784967 0.98166366 0.99599061 1.         0.98322834 0.96665216\n",
      " 0.95794843 0.92130709 0.89384657 0.8678717  0.84491521 0.82453042\n",
      " 0.80621105 0.78937614 0.77353835 0.7583732  0.74372292 0.72956502\n",
      " 0.71596825 0.70304406 0.69091249 0.67967379 0.66939735 0.66011691\n",
      " 0.65183252 0.64451867 0.6381309  0.632613   0.62790316 0.62393737\n",
      " 0.62065238 0.61798632 0.61587989 0.61427569 0.61311871 0.61235565\n",
      " 0.61193484 0.61180645 0.61192298 0.612239   0.61271191 0.61330169\n",
      " 0.61397189 0.61468893 0.6154229  0.61614728 0.61683905 0.61747843\n",
      " 0.61804879 0.61853689 0.61893177 0.61922586 0.61941367 0.61949182\n",
      " 0.61945903 0.61931598 0.61906481 0.61870915 0.61825371 0.61770427\n",
      " 0.61706734 0.61635023 0.61556053 0.61470622 0.61379576 0.61283731\n",
      " 0.61183894 0.61080855 0.60975426 0.60868305 0.60760236 0.60651869\n",
      " 0.60543817 0.6043663  0.60330832 0.60226864]\n",
      "8 day output [[0.6012514]]\n",
      "9 day input [0.84841846 0.84968975 0.85321035 0.85086333 0.85746443 0.87213362\n",
      " 0.88284212 0.88220648 0.89394186 0.9049926  0.91995518 0.92171548\n",
      " 0.92186218 0.92088422 0.94000312 0.94499062 0.93873176 0.94591973\n",
      " 0.94675092 0.96098001 0.97291094 0.94635975 0.95486785 0.97784967\n",
      " 0.98166366 0.99599061 1.         0.98322834 0.96665216 0.95794843\n",
      " 0.92130709 0.89384657 0.8678717  0.84491521 0.82453042 0.80621105\n",
      " 0.78937614 0.77353835 0.7583732  0.74372292 0.72956502 0.71596825\n",
      " 0.70304406 0.69091249 0.67967379 0.66939735 0.66011691 0.65183252\n",
      " 0.64451867 0.6381309  0.632613   0.62790316 0.62393737 0.62065238\n",
      " 0.61798632 0.61587989 0.61427569 0.61311871 0.61235565 0.61193484\n",
      " 0.61180645 0.61192298 0.612239   0.61271191 0.61330169 0.61397189\n",
      " 0.61468893 0.6154229  0.61614728 0.61683905 0.61747843 0.61804879\n",
      " 0.61853689 0.61893177 0.61922586 0.61941367 0.61949182 0.61945903\n",
      " 0.61931598 0.61906481 0.61870915 0.61825371 0.61770427 0.61706734\n",
      " 0.61635023 0.61556053 0.61470622 0.61379576 0.61283731 0.61183894\n",
      " 0.61080855 0.60975426 0.60868305 0.60760236 0.60651869 0.60543817\n",
      " 0.6043663  0.60330832 0.60226864 0.60125142]\n",
      "9 day output [[0.60026]]\n",
      "10 day input [0.84968975 0.85321035 0.85086333 0.85746443 0.87213362 0.88284212\n",
      " 0.88220648 0.89394186 0.9049926  0.91995518 0.92171548 0.92186218\n",
      " 0.92088422 0.94000312 0.94499062 0.93873176 0.94591973 0.94675092\n",
      " 0.96098001 0.97291094 0.94635975 0.95486785 0.97784967 0.98166366\n",
      " 0.99599061 1.         0.98322834 0.96665216 0.95794843 0.92130709\n",
      " 0.89384657 0.8678717  0.84491521 0.82453042 0.80621105 0.78937614\n",
      " 0.77353835 0.7583732  0.74372292 0.72956502 0.71596825 0.70304406\n",
      " 0.69091249 0.67967379 0.66939735 0.66011691 0.65183252 0.64451867\n",
      " 0.6381309  0.632613   0.62790316 0.62393737 0.62065238 0.61798632\n",
      " 0.61587989 0.61427569 0.61311871 0.61235565 0.61193484 0.61180645\n",
      " 0.61192298 0.612239   0.61271191 0.61330169 0.61397189 0.61468893\n",
      " 0.6154229  0.61614728 0.61683905 0.61747843 0.61804879 0.61853689\n",
      " 0.61893177 0.61922586 0.61941367 0.61949182 0.61945903 0.61931598\n",
      " 0.61906481 0.61870915 0.61825371 0.61770427 0.61706734 0.61635023\n",
      " 0.61556053 0.61470622 0.61379576 0.61283731 0.61183894 0.61080855\n",
      " 0.60975426 0.60868305 0.60760236 0.60651869 0.60543817 0.6043663\n",
      " 0.60330832 0.60226864 0.60125142 0.60026002]\n",
      "10 day output [[0.59929717]]\n",
      "11 day input [0.85321035 0.85086333 0.85746443 0.87213362 0.88284212 0.88220648\n",
      " 0.89394186 0.9049926  0.91995518 0.92171548 0.92186218 0.92088422\n",
      " 0.94000312 0.94499062 0.93873176 0.94591973 0.94675092 0.96098001\n",
      " 0.97291094 0.94635975 0.95486785 0.97784967 0.98166366 0.99599061\n",
      " 1.         0.98322834 0.96665216 0.95794843 0.92130709 0.89384657\n",
      " 0.8678717  0.84491521 0.82453042 0.80621105 0.78937614 0.77353835\n",
      " 0.7583732  0.74372292 0.72956502 0.71596825 0.70304406 0.69091249\n",
      " 0.67967379 0.66939735 0.66011691 0.65183252 0.64451867 0.6381309\n",
      " 0.632613   0.62790316 0.62393737 0.62065238 0.61798632 0.61587989\n",
      " 0.61427569 0.61311871 0.61235565 0.61193484 0.61180645 0.61192298\n",
      " 0.612239   0.61271191 0.61330169 0.61397189 0.61468893 0.6154229\n",
      " 0.61614728 0.61683905 0.61747843 0.61804879 0.61853689 0.61893177\n",
      " 0.61922586 0.61941367 0.61949182 0.61945903 0.61931598 0.61906481\n",
      " 0.61870915 0.61825371 0.61770427 0.61706734 0.61635023 0.61556053\n",
      " 0.61470622 0.61379576 0.61283731 0.61183894 0.61080855 0.60975426\n",
      " 0.60868305 0.60760236 0.60651869 0.60543817 0.6043663  0.60330832\n",
      " 0.60226864 0.60125142 0.60026002 0.59929717]\n",
      "11 day output [[0.5983656]]\n",
      "12 day input [0.85086333 0.85746443 0.87213362 0.88284212 0.88220648 0.89394186\n",
      " 0.9049926  0.91995518 0.92171548 0.92186218 0.92088422 0.94000312\n",
      " 0.94499062 0.93873176 0.94591973 0.94675092 0.96098001 0.97291094\n",
      " 0.94635975 0.95486785 0.97784967 0.98166366 0.99599061 1.\n",
      " 0.98322834 0.96665216 0.95794843 0.92130709 0.89384657 0.8678717\n",
      " 0.84491521 0.82453042 0.80621105 0.78937614 0.77353835 0.7583732\n",
      " 0.74372292 0.72956502 0.71596825 0.70304406 0.69091249 0.67967379\n",
      " 0.66939735 0.66011691 0.65183252 0.64451867 0.6381309  0.632613\n",
      " 0.62790316 0.62393737 0.62065238 0.61798632 0.61587989 0.61427569\n",
      " 0.61311871 0.61235565 0.61193484 0.61180645 0.61192298 0.612239\n",
      " 0.61271191 0.61330169 0.61397189 0.61468893 0.6154229  0.61614728\n",
      " 0.61683905 0.61747843 0.61804879 0.61853689 0.61893177 0.61922586\n",
      " 0.61941367 0.61949182 0.61945903 0.61931598 0.61906481 0.61870915\n",
      " 0.61825371 0.61770427 0.61706734 0.61635023 0.61556053 0.61470622\n",
      " 0.61379576 0.61283731 0.61183894 0.61080855 0.60975426 0.60868305\n",
      " 0.60760236 0.60651869 0.60543817 0.6043663  0.60330832 0.60226864\n",
      " 0.60125142 0.60026002 0.59929717 0.5983656 ]\n",
      "12 day output [[0.59746695]]\n",
      "13 day input [0.85746443 0.87213362 0.88284212 0.88220648 0.89394186 0.9049926\n",
      " 0.91995518 0.92171548 0.92186218 0.92088422 0.94000312 0.94499062\n",
      " 0.93873176 0.94591973 0.94675092 0.96098001 0.97291094 0.94635975\n",
      " 0.95486785 0.97784967 0.98166366 0.99599061 1.         0.98322834\n",
      " 0.96665216 0.95794843 0.92130709 0.89384657 0.8678717  0.84491521\n",
      " 0.82453042 0.80621105 0.78937614 0.77353835 0.7583732  0.74372292\n",
      " 0.72956502 0.71596825 0.70304406 0.69091249 0.67967379 0.66939735\n",
      " 0.66011691 0.65183252 0.64451867 0.6381309  0.632613   0.62790316\n",
      " 0.62393737 0.62065238 0.61798632 0.61587989 0.61427569 0.61311871\n",
      " 0.61235565 0.61193484 0.61180645 0.61192298 0.612239   0.61271191\n",
      " 0.61330169 0.61397189 0.61468893 0.6154229  0.61614728 0.61683905\n",
      " 0.61747843 0.61804879 0.61853689 0.61893177 0.61922586 0.61941367\n",
      " 0.61949182 0.61945903 0.61931598 0.61906481 0.61870915 0.61825371\n",
      " 0.61770427 0.61706734 0.61635023 0.61556053 0.61470622 0.61379576\n",
      " 0.61283731 0.61183894 0.61080855 0.60975426 0.60868305 0.60760236\n",
      " 0.60651869 0.60543817 0.6043663  0.60330832 0.60226864 0.60125142\n",
      " 0.60026002 0.59929717 0.5983656  0.59746695]\n",
      "13 day output [[0.596603]]\n",
      "14 day input [0.87213362 0.88284212 0.88220648 0.89394186 0.9049926  0.91995518\n",
      " 0.92171548 0.92186218 0.92088422 0.94000312 0.94499062 0.93873176\n",
      " 0.94591973 0.94675092 0.96098001 0.97291094 0.94635975 0.95486785\n",
      " 0.97784967 0.98166366 0.99599061 1.         0.98322834 0.96665216\n",
      " 0.95794843 0.92130709 0.89384657 0.8678717  0.84491521 0.82453042\n",
      " 0.80621105 0.78937614 0.77353835 0.7583732  0.74372292 0.72956502\n",
      " 0.71596825 0.70304406 0.69091249 0.67967379 0.66939735 0.66011691\n",
      " 0.65183252 0.64451867 0.6381309  0.632613   0.62790316 0.62393737\n",
      " 0.62065238 0.61798632 0.61587989 0.61427569 0.61311871 0.61235565\n",
      " 0.61193484 0.61180645 0.61192298 0.612239   0.61271191 0.61330169\n",
      " 0.61397189 0.61468893 0.6154229  0.61614728 0.61683905 0.61747843\n",
      " 0.61804879 0.61853689 0.61893177 0.61922586 0.61941367 0.61949182\n",
      " 0.61945903 0.61931598 0.61906481 0.61870915 0.61825371 0.61770427\n",
      " 0.61706734 0.61635023 0.61556053 0.61470622 0.61379576 0.61283731\n",
      " 0.61183894 0.61080855 0.60975426 0.60868305 0.60760236 0.60651869\n",
      " 0.60543817 0.6043663  0.60330832 0.60226864 0.60125142 0.60026002\n",
      " 0.59929717 0.5983656  0.59746695 0.59660298]\n",
      "14 day output [[0.5957744]]\n",
      "15 day input [0.88284212 0.88220648 0.89394186 0.9049926  0.91995518 0.92171548\n",
      " 0.92186218 0.92088422 0.94000312 0.94499062 0.93873176 0.94591973\n",
      " 0.94675092 0.96098001 0.97291094 0.94635975 0.95486785 0.97784967\n",
      " 0.98166366 0.99599061 1.         0.98322834 0.96665216 0.95794843\n",
      " 0.92130709 0.89384657 0.8678717  0.84491521 0.82453042 0.80621105\n",
      " 0.78937614 0.77353835 0.7583732  0.74372292 0.72956502 0.71596825\n",
      " 0.70304406 0.69091249 0.67967379 0.66939735 0.66011691 0.65183252\n",
      " 0.64451867 0.6381309  0.632613   0.62790316 0.62393737 0.62065238\n",
      " 0.61798632 0.61587989 0.61427569 0.61311871 0.61235565 0.61193484\n",
      " 0.61180645 0.61192298 0.612239   0.61271191 0.61330169 0.61397189\n",
      " 0.61468893 0.6154229  0.61614728 0.61683905 0.61747843 0.61804879\n",
      " 0.61853689 0.61893177 0.61922586 0.61941367 0.61949182 0.61945903\n",
      " 0.61931598 0.61906481 0.61870915 0.61825371 0.61770427 0.61706734\n",
      " 0.61635023 0.61556053 0.61470622 0.61379576 0.61283731 0.61183894\n",
      " 0.61080855 0.60975426 0.60868305 0.60760236 0.60651869 0.60543817\n",
      " 0.6043663  0.60330832 0.60226864 0.60125142 0.60026002 0.59929717\n",
      " 0.5983656  0.59746695 0.59660298 0.59577441]\n",
      "15 day output [[0.59498215]]\n",
      "16 day input [0.88220648 0.89394186 0.9049926  0.91995518 0.92171548 0.92186218\n",
      " 0.92088422 0.94000312 0.94499062 0.93873176 0.94591973 0.94675092\n",
      " 0.96098001 0.97291094 0.94635975 0.95486785 0.97784967 0.98166366\n",
      " 0.99599061 1.         0.98322834 0.96665216 0.95794843 0.92130709\n",
      " 0.89384657 0.8678717  0.84491521 0.82453042 0.80621105 0.78937614\n",
      " 0.77353835 0.7583732  0.74372292 0.72956502 0.71596825 0.70304406\n",
      " 0.69091249 0.67967379 0.66939735 0.66011691 0.65183252 0.64451867\n",
      " 0.6381309  0.632613   0.62790316 0.62393737 0.62065238 0.61798632\n",
      " 0.61587989 0.61427569 0.61311871 0.61235565 0.61193484 0.61180645\n",
      " 0.61192298 0.612239   0.61271191 0.61330169 0.61397189 0.61468893\n",
      " 0.6154229  0.61614728 0.61683905 0.61747843 0.61804879 0.61853689\n",
      " 0.61893177 0.61922586 0.61941367 0.61949182 0.61945903 0.61931598\n",
      " 0.61906481 0.61870915 0.61825371 0.61770427 0.61706734 0.61635023\n",
      " 0.61556053 0.61470622 0.61379576 0.61283731 0.61183894 0.61080855\n",
      " 0.60975426 0.60868305 0.60760236 0.60651869 0.60543817 0.6043663\n",
      " 0.60330832 0.60226864 0.60125142 0.60026002 0.59929717 0.5983656\n",
      " 0.59746695 0.59660298 0.59577441 0.59498215]\n",
      "16 day output [[0.5942262]]\n",
      "17 day input [0.89394186 0.9049926  0.91995518 0.92171548 0.92186218 0.92088422\n",
      " 0.94000312 0.94499062 0.93873176 0.94591973 0.94675092 0.96098001\n",
      " 0.97291094 0.94635975 0.95486785 0.97784967 0.98166366 0.99599061\n",
      " 1.         0.98322834 0.96665216 0.95794843 0.92130709 0.89384657\n",
      " 0.8678717  0.84491521 0.82453042 0.80621105 0.78937614 0.77353835\n",
      " 0.7583732  0.74372292 0.72956502 0.71596825 0.70304406 0.69091249\n",
      " 0.67967379 0.66939735 0.66011691 0.65183252 0.64451867 0.6381309\n",
      " 0.632613   0.62790316 0.62393737 0.62065238 0.61798632 0.61587989\n",
      " 0.61427569 0.61311871 0.61235565 0.61193484 0.61180645 0.61192298\n",
      " 0.612239   0.61271191 0.61330169 0.61397189 0.61468893 0.6154229\n",
      " 0.61614728 0.61683905 0.61747843 0.61804879 0.61853689 0.61893177\n",
      " 0.61922586 0.61941367 0.61949182 0.61945903 0.61931598 0.61906481\n",
      " 0.61870915 0.61825371 0.61770427 0.61706734 0.61635023 0.61556053\n",
      " 0.61470622 0.61379576 0.61283731 0.61183894 0.61080855 0.60975426\n",
      " 0.60868305 0.60760236 0.60651869 0.60543817 0.6043663  0.60330832\n",
      " 0.60226864 0.60125142 0.60026002 0.59929717 0.5983656  0.59746695\n",
      " 0.59660298 0.59577441 0.59498215 0.59422618]\n",
      "17 day output [[0.5935065]]\n",
      "18 day input [0.9049926  0.91995518 0.92171548 0.92186218 0.92088422 0.94000312\n",
      " 0.94499062 0.93873176 0.94591973 0.94675092 0.96098001 0.97291094\n",
      " 0.94635975 0.95486785 0.97784967 0.98166366 0.99599061 1.\n",
      " 0.98322834 0.96665216 0.95794843 0.92130709 0.89384657 0.8678717\n",
      " 0.84491521 0.82453042 0.80621105 0.78937614 0.77353835 0.7583732\n",
      " 0.74372292 0.72956502 0.71596825 0.70304406 0.69091249 0.67967379\n",
      " 0.66939735 0.66011691 0.65183252 0.64451867 0.6381309  0.632613\n",
      " 0.62790316 0.62393737 0.62065238 0.61798632 0.61587989 0.61427569\n",
      " 0.61311871 0.61235565 0.61193484 0.61180645 0.61192298 0.612239\n",
      " 0.61271191 0.61330169 0.61397189 0.61468893 0.6154229  0.61614728\n",
      " 0.61683905 0.61747843 0.61804879 0.61853689 0.61893177 0.61922586\n",
      " 0.61941367 0.61949182 0.61945903 0.61931598 0.61906481 0.61870915\n",
      " 0.61825371 0.61770427 0.61706734 0.61635023 0.61556053 0.61470622\n",
      " 0.61379576 0.61283731 0.61183894 0.61080855 0.60975426 0.60868305\n",
      " 0.60760236 0.60651869 0.60543817 0.6043663  0.60330832 0.60226864\n",
      " 0.60125142 0.60026002 0.59929717 0.5983656  0.59746695 0.59660298\n",
      " 0.59577441 0.59498215 0.59422618 0.59350652]\n",
      "18 day output [[0.5928228]]\n",
      "19 day input [0.91995518 0.92171548 0.92186218 0.92088422 0.94000312 0.94499062\n",
      " 0.93873176 0.94591973 0.94675092 0.96098001 0.97291094 0.94635975\n",
      " 0.95486785 0.97784967 0.98166366 0.99599061 1.         0.98322834\n",
      " 0.96665216 0.95794843 0.92130709 0.89384657 0.8678717  0.84491521\n",
      " 0.82453042 0.80621105 0.78937614 0.77353835 0.7583732  0.74372292\n",
      " 0.72956502 0.71596825 0.70304406 0.69091249 0.67967379 0.66939735\n",
      " 0.66011691 0.65183252 0.64451867 0.6381309  0.632613   0.62790316\n",
      " 0.62393737 0.62065238 0.61798632 0.61587989 0.61427569 0.61311871\n",
      " 0.61235565 0.61193484 0.61180645 0.61192298 0.612239   0.61271191\n",
      " 0.61330169 0.61397189 0.61468893 0.6154229  0.61614728 0.61683905\n",
      " 0.61747843 0.61804879 0.61853689 0.61893177 0.61922586 0.61941367\n",
      " 0.61949182 0.61945903 0.61931598 0.61906481 0.61870915 0.61825371\n",
      " 0.61770427 0.61706734 0.61635023 0.61556053 0.61470622 0.61379576\n",
      " 0.61283731 0.61183894 0.61080855 0.60975426 0.60868305 0.60760236\n",
      " 0.60651869 0.60543817 0.6043663  0.60330832 0.60226864 0.60125142\n",
      " 0.60026002 0.59929717 0.5983656  0.59746695 0.59660298 0.59577441\n",
      " 0.59498215 0.59422618 0.59350652 0.59282279]\n",
      "19 day output [[0.59217423]]\n",
      "20 day input [0.92171548 0.92186218 0.92088422 0.94000312 0.94499062 0.93873176\n",
      " 0.94591973 0.94675092 0.96098001 0.97291094 0.94635975 0.95486785\n",
      " 0.97784967 0.98166366 0.99599061 1.         0.98322834 0.96665216\n",
      " 0.95794843 0.92130709 0.89384657 0.8678717  0.84491521 0.82453042\n",
      " 0.80621105 0.78937614 0.77353835 0.7583732  0.74372292 0.72956502\n",
      " 0.71596825 0.70304406 0.69091249 0.67967379 0.66939735 0.66011691\n",
      " 0.65183252 0.64451867 0.6381309  0.632613   0.62790316 0.62393737\n",
      " 0.62065238 0.61798632 0.61587989 0.61427569 0.61311871 0.61235565\n",
      " 0.61193484 0.61180645 0.61192298 0.612239   0.61271191 0.61330169\n",
      " 0.61397189 0.61468893 0.6154229  0.61614728 0.61683905 0.61747843\n",
      " 0.61804879 0.61853689 0.61893177 0.61922586 0.61941367 0.61949182\n",
      " 0.61945903 0.61931598 0.61906481 0.61870915 0.61825371 0.61770427\n",
      " 0.61706734 0.61635023 0.61556053 0.61470622 0.61379576 0.61283731\n",
      " 0.61183894 0.61080855 0.60975426 0.60868305 0.60760236 0.60651869\n",
      " 0.60543817 0.6043663  0.60330832 0.60226864 0.60125142 0.60026002\n",
      " 0.59929717 0.5983656  0.59746695 0.59660298 0.59577441 0.59498215\n",
      " 0.59422618 0.59350652 0.59282279 0.59217423]\n",
      "20 day output [[0.59156007]]\n",
      "21 day input [0.92186218 0.92088422 0.94000312 0.94499062 0.93873176 0.94591973\n",
      " 0.94675092 0.96098001 0.97291094 0.94635975 0.95486785 0.97784967\n",
      " 0.98166366 0.99599061 1.         0.98322834 0.96665216 0.95794843\n",
      " 0.92130709 0.89384657 0.8678717  0.84491521 0.82453042 0.80621105\n",
      " 0.78937614 0.77353835 0.7583732  0.74372292 0.72956502 0.71596825\n",
      " 0.70304406 0.69091249 0.67967379 0.66939735 0.66011691 0.65183252\n",
      " 0.64451867 0.6381309  0.632613   0.62790316 0.62393737 0.62065238\n",
      " 0.61798632 0.61587989 0.61427569 0.61311871 0.61235565 0.61193484\n",
      " 0.61180645 0.61192298 0.612239   0.61271191 0.61330169 0.61397189\n",
      " 0.61468893 0.6154229  0.61614728 0.61683905 0.61747843 0.61804879\n",
      " 0.61853689 0.61893177 0.61922586 0.61941367 0.61949182 0.61945903\n",
      " 0.61931598 0.61906481 0.61870915 0.61825371 0.61770427 0.61706734\n",
      " 0.61635023 0.61556053 0.61470622 0.61379576 0.61283731 0.61183894\n",
      " 0.61080855 0.60975426 0.60868305 0.60760236 0.60651869 0.60543817\n",
      " 0.6043663  0.60330832 0.60226864 0.60125142 0.60026002 0.59929717\n",
      " 0.5983656  0.59746695 0.59660298 0.59577441 0.59498215 0.59422618\n",
      " 0.59350652 0.59282279 0.59217423 0.59156007]\n",
      "21 day output [[0.5909792]]\n",
      "22 day input [0.92088422 0.94000312 0.94499062 0.93873176 0.94591973 0.94675092\n",
      " 0.96098001 0.97291094 0.94635975 0.95486785 0.97784967 0.98166366\n",
      " 0.99599061 1.         0.98322834 0.96665216 0.95794843 0.92130709\n",
      " 0.89384657 0.8678717  0.84491521 0.82453042 0.80621105 0.78937614\n",
      " 0.77353835 0.7583732  0.74372292 0.72956502 0.71596825 0.70304406\n",
      " 0.69091249 0.67967379 0.66939735 0.66011691 0.65183252 0.64451867\n",
      " 0.6381309  0.632613   0.62790316 0.62393737 0.62065238 0.61798632\n",
      " 0.61587989 0.61427569 0.61311871 0.61235565 0.61193484 0.61180645\n",
      " 0.61192298 0.612239   0.61271191 0.61330169 0.61397189 0.61468893\n",
      " 0.6154229  0.61614728 0.61683905 0.61747843 0.61804879 0.61853689\n",
      " 0.61893177 0.61922586 0.61941367 0.61949182 0.61945903 0.61931598\n",
      " 0.61906481 0.61870915 0.61825371 0.61770427 0.61706734 0.61635023\n",
      " 0.61556053 0.61470622 0.61379576 0.61283731 0.61183894 0.61080855\n",
      " 0.60975426 0.60868305 0.60760236 0.60651869 0.60543817 0.6043663\n",
      " 0.60330832 0.60226864 0.60125142 0.60026002 0.59929717 0.5983656\n",
      " 0.59746695 0.59660298 0.59577441 0.59498215 0.59422618 0.59350652\n",
      " 0.59282279 0.59217423 0.59156007 0.59097922]\n",
      "22 day output [[0.5904303]]\n",
      "23 day input [0.94000312 0.94499062 0.93873176 0.94591973 0.94675092 0.96098001\n",
      " 0.97291094 0.94635975 0.95486785 0.97784967 0.98166366 0.99599061\n",
      " 1.         0.98322834 0.96665216 0.95794843 0.92130709 0.89384657\n",
      " 0.8678717  0.84491521 0.82453042 0.80621105 0.78937614 0.77353835\n",
      " 0.7583732  0.74372292 0.72956502 0.71596825 0.70304406 0.69091249\n",
      " 0.67967379 0.66939735 0.66011691 0.65183252 0.64451867 0.6381309\n",
      " 0.632613   0.62790316 0.62393737 0.62065238 0.61798632 0.61587989\n",
      " 0.61427569 0.61311871 0.61235565 0.61193484 0.61180645 0.61192298\n",
      " 0.612239   0.61271191 0.61330169 0.61397189 0.61468893 0.6154229\n",
      " 0.61614728 0.61683905 0.61747843 0.61804879 0.61853689 0.61893177\n",
      " 0.61922586 0.61941367 0.61949182 0.61945903 0.61931598 0.61906481\n",
      " 0.61870915 0.61825371 0.61770427 0.61706734 0.61635023 0.61556053\n",
      " 0.61470622 0.61379576 0.61283731 0.61183894 0.61080855 0.60975426\n",
      " 0.60868305 0.60760236 0.60651869 0.60543817 0.6043663  0.60330832\n",
      " 0.60226864 0.60125142 0.60026002 0.59929717 0.5983656  0.59746695\n",
      " 0.59660298 0.59577441 0.59498215 0.59422618 0.59350652 0.59282279\n",
      " 0.59217423 0.59156007 0.59097922 0.59043032]\n",
      "23 day output [[0.58991206]]\n",
      "24 day input [0.94499062 0.93873176 0.94591973 0.94675092 0.96098001 0.97291094\n",
      " 0.94635975 0.95486785 0.97784967 0.98166366 0.99599061 1.\n",
      " 0.98322834 0.96665216 0.95794843 0.92130709 0.89384657 0.8678717\n",
      " 0.84491521 0.82453042 0.80621105 0.78937614 0.77353835 0.7583732\n",
      " 0.74372292 0.72956502 0.71596825 0.70304406 0.69091249 0.67967379\n",
      " 0.66939735 0.66011691 0.65183252 0.64451867 0.6381309  0.632613\n",
      " 0.62790316 0.62393737 0.62065238 0.61798632 0.61587989 0.61427569\n",
      " 0.61311871 0.61235565 0.61193484 0.61180645 0.61192298 0.612239\n",
      " 0.61271191 0.61330169 0.61397189 0.61468893 0.6154229  0.61614728\n",
      " 0.61683905 0.61747843 0.61804879 0.61853689 0.61893177 0.61922586\n",
      " 0.61941367 0.61949182 0.61945903 0.61931598 0.61906481 0.61870915\n",
      " 0.61825371 0.61770427 0.61706734 0.61635023 0.61556053 0.61470622\n",
      " 0.61379576 0.61283731 0.61183894 0.61080855 0.60975426 0.60868305\n",
      " 0.60760236 0.60651869 0.60543817 0.6043663  0.60330832 0.60226864\n",
      " 0.60125142 0.60026002 0.59929717 0.5983656  0.59746695 0.59660298\n",
      " 0.59577441 0.59498215 0.59422618 0.59350652 0.59282279 0.59217423\n",
      " 0.59156007 0.59097922 0.59043032 0.58991206]\n",
      "24 day output [[0.5894228]]\n",
      "25 day input [0.93873176 0.94591973 0.94675092 0.96098001 0.97291094 0.94635975\n",
      " 0.95486785 0.97784967 0.98166366 0.99599061 1.         0.98322834\n",
      " 0.96665216 0.95794843 0.92130709 0.89384657 0.8678717  0.84491521\n",
      " 0.82453042 0.80621105 0.78937614 0.77353835 0.7583732  0.74372292\n",
      " 0.72956502 0.71596825 0.70304406 0.69091249 0.67967379 0.66939735\n",
      " 0.66011691 0.65183252 0.64451867 0.6381309  0.632613   0.62790316\n",
      " 0.62393737 0.62065238 0.61798632 0.61587989 0.61427569 0.61311871\n",
      " 0.61235565 0.61193484 0.61180645 0.61192298 0.612239   0.61271191\n",
      " 0.61330169 0.61397189 0.61468893 0.6154229  0.61614728 0.61683905\n",
      " 0.61747843 0.61804879 0.61853689 0.61893177 0.61922586 0.61941367\n",
      " 0.61949182 0.61945903 0.61931598 0.61906481 0.61870915 0.61825371\n",
      " 0.61770427 0.61706734 0.61635023 0.61556053 0.61470622 0.61379576\n",
      " 0.61283731 0.61183894 0.61080855 0.60975426 0.60868305 0.60760236\n",
      " 0.60651869 0.60543817 0.6043663  0.60330832 0.60226864 0.60125142\n",
      " 0.60026002 0.59929717 0.5983656  0.59746695 0.59660298 0.59577441\n",
      " 0.59498215 0.59422618 0.59350652 0.59282279 0.59217423 0.59156007\n",
      " 0.59097922 0.59043032 0.58991206 0.58942282]\n",
      "25 day output [[0.58896095]]\n",
      "26 day input [0.94591973 0.94675092 0.96098001 0.97291094 0.94635975 0.95486785\n",
      " 0.97784967 0.98166366 0.99599061 1.         0.98322834 0.96665216\n",
      " 0.95794843 0.92130709 0.89384657 0.8678717  0.84491521 0.82453042\n",
      " 0.80621105 0.78937614 0.77353835 0.7583732  0.74372292 0.72956502\n",
      " 0.71596825 0.70304406 0.69091249 0.67967379 0.66939735 0.66011691\n",
      " 0.65183252 0.64451867 0.6381309  0.632613   0.62790316 0.62393737\n",
      " 0.62065238 0.61798632 0.61587989 0.61427569 0.61311871 0.61235565\n",
      " 0.61193484 0.61180645 0.61192298 0.612239   0.61271191 0.61330169\n",
      " 0.61397189 0.61468893 0.6154229  0.61614728 0.61683905 0.61747843\n",
      " 0.61804879 0.61853689 0.61893177 0.61922586 0.61941367 0.61949182\n",
      " 0.61945903 0.61931598 0.61906481 0.61870915 0.61825371 0.61770427\n",
      " 0.61706734 0.61635023 0.61556053 0.61470622 0.61379576 0.61283731\n",
      " 0.61183894 0.61080855 0.60975426 0.60868305 0.60760236 0.60651869\n",
      " 0.60543817 0.6043663  0.60330832 0.60226864 0.60125142 0.60026002\n",
      " 0.59929717 0.5983656  0.59746695 0.59660298 0.59577441 0.59498215\n",
      " 0.59422618 0.59350652 0.59282279 0.59217423 0.59156007 0.59097922\n",
      " 0.59043032 0.58991206 0.58942282 0.58896095]\n",
      "26 day output [[0.5885248]]\n",
      "27 day input [0.94675092 0.96098001 0.97291094 0.94635975 0.95486785 0.97784967\n",
      " 0.98166366 0.99599061 1.         0.98322834 0.96665216 0.95794843\n",
      " 0.92130709 0.89384657 0.8678717  0.84491521 0.82453042 0.80621105\n",
      " 0.78937614 0.77353835 0.7583732  0.74372292 0.72956502 0.71596825\n",
      " 0.70304406 0.69091249 0.67967379 0.66939735 0.66011691 0.65183252\n",
      " 0.64451867 0.6381309  0.632613   0.62790316 0.62393737 0.62065238\n",
      " 0.61798632 0.61587989 0.61427569 0.61311871 0.61235565 0.61193484\n",
      " 0.61180645 0.61192298 0.612239   0.61271191 0.61330169 0.61397189\n",
      " 0.61468893 0.6154229  0.61614728 0.61683905 0.61747843 0.61804879\n",
      " 0.61853689 0.61893177 0.61922586 0.61941367 0.61949182 0.61945903\n",
      " 0.61931598 0.61906481 0.61870915 0.61825371 0.61770427 0.61706734\n",
      " 0.61635023 0.61556053 0.61470622 0.61379576 0.61283731 0.61183894\n",
      " 0.61080855 0.60975426 0.60868305 0.60760236 0.60651869 0.60543817\n",
      " 0.6043663  0.60330832 0.60226864 0.60125142 0.60026002 0.59929717\n",
      " 0.5983656  0.59746695 0.59660298 0.59577441 0.59498215 0.59422618\n",
      " 0.59350652 0.59282279 0.59217423 0.59156007 0.59097922 0.59043032\n",
      " 0.58991206 0.58942282 0.58896095 0.58852482]\n",
      "27 day output [[0.58811295]]\n",
      "28 day input [0.96098001 0.97291094 0.94635975 0.95486785 0.97784967 0.98166366\n",
      " 0.99599061 1.         0.98322834 0.96665216 0.95794843 0.92130709\n",
      " 0.89384657 0.8678717  0.84491521 0.82453042 0.80621105 0.78937614\n",
      " 0.77353835 0.7583732  0.74372292 0.72956502 0.71596825 0.70304406\n",
      " 0.69091249 0.67967379 0.66939735 0.66011691 0.65183252 0.64451867\n",
      " 0.6381309  0.632613   0.62790316 0.62393737 0.62065238 0.61798632\n",
      " 0.61587989 0.61427569 0.61311871 0.61235565 0.61193484 0.61180645\n",
      " 0.61192298 0.612239   0.61271191 0.61330169 0.61397189 0.61468893\n",
      " 0.6154229  0.61614728 0.61683905 0.61747843 0.61804879 0.61853689\n",
      " 0.61893177 0.61922586 0.61941367 0.61949182 0.61945903 0.61931598\n",
      " 0.61906481 0.61870915 0.61825371 0.61770427 0.61706734 0.61635023\n",
      " 0.61556053 0.61470622 0.61379576 0.61283731 0.61183894 0.61080855\n",
      " 0.60975426 0.60868305 0.60760236 0.60651869 0.60543817 0.6043663\n",
      " 0.60330832 0.60226864 0.60125142 0.60026002 0.59929717 0.5983656\n",
      " 0.59746695 0.59660298 0.59577441 0.59498215 0.59422618 0.59350652\n",
      " 0.59282279 0.59217423 0.59156007 0.59097922 0.59043032 0.58991206\n",
      " 0.58942282 0.58896095 0.58852482 0.58811295]\n",
      "28 day output [[0.58772343]]\n",
      "29 day input [0.97291094 0.94635975 0.95486785 0.97784967 0.98166366 0.99599061\n",
      " 1.         0.98322834 0.96665216 0.95794843 0.92130709 0.89384657\n",
      " 0.8678717  0.84491521 0.82453042 0.80621105 0.78937614 0.77353835\n",
      " 0.7583732  0.74372292 0.72956502 0.71596825 0.70304406 0.69091249\n",
      " 0.67967379 0.66939735 0.66011691 0.65183252 0.64451867 0.6381309\n",
      " 0.632613   0.62790316 0.62393737 0.62065238 0.61798632 0.61587989\n",
      " 0.61427569 0.61311871 0.61235565 0.61193484 0.61180645 0.61192298\n",
      " 0.612239   0.61271191 0.61330169 0.61397189 0.61468893 0.6154229\n",
      " 0.61614728 0.61683905 0.61747843 0.61804879 0.61853689 0.61893177\n",
      " 0.61922586 0.61941367 0.61949182 0.61945903 0.61931598 0.61906481\n",
      " 0.61870915 0.61825371 0.61770427 0.61706734 0.61635023 0.61556053\n",
      " 0.61470622 0.61379576 0.61283731 0.61183894 0.61080855 0.60975426\n",
      " 0.60868305 0.60760236 0.60651869 0.60543817 0.6043663  0.60330832\n",
      " 0.60226864 0.60125142 0.60026002 0.59929717 0.5983656  0.59746695\n",
      " 0.59660298 0.59577441 0.59498215 0.59422618 0.59350652 0.59282279\n",
      " 0.59217423 0.59156007 0.59097922 0.59043032 0.58991206 0.58942282\n",
      " 0.58896095 0.58852482 0.58811295 0.58772343]\n",
      "29 day output [[0.58735466]]\n",
      "[[0.6097542643547058], [0.6086830496788025], [0.6076023578643799], [0.6065186858177185], [0.6054381728172302], [0.6043663024902344], [0.6033083200454712], [0.602268636226654], [0.6012514233589172], [0.6002600193023682], [0.5992971658706665], [0.5983656048774719], [0.5974669456481934], [0.5966029763221741], [0.5957744121551514], [0.5949821472167969], [0.5942261815071106], [0.5935065150260925], [0.592822790145874], [0.592174232006073], [0.5915600657463074], [0.5909792184829712], [0.5904303193092346], [0.5899120569229126], [0.5894228219985962], [0.5889609456062317], [0.5885248184204102], [0.5881129503250122], [0.587723433971405], [0.5873546600341797]]\n"
     ]
    }
   ],
   "source": [
    "#demonstrate prediction for next 10 days\n",
    "\n",
    "lst_output=[]\n",
    "n_steps=100\n",
    "i=0\n",
    "while(i<30):\n",
    "    if(len(temp_input)>100):\n",
    "        X_input=np.array(temp_input[1:])\n",
    "        print(\"{} day input {}\".format(i,X_input))\n",
    "        X_input = X_input.reshape(1,-1)\n",
    "        X_input = X_input.reshape((1,n_steps,1))\n",
    "\n",
    "        yhat = model.predict(X_input,verbose = 0 )\n",
    "        print('{} day output {}'.format(i,yhat))\n",
    "        temp_input.extend(yhat[0].tolist())\n",
    "        temp_input=temp_input[1:]\n",
    "\n",
    "        lst_output.extend(yhat.tolist())\n",
    "        i+=1\n",
    "    else:\n",
    "        X_input = X_input.reshape((1,n_steps,1))\n",
    "        yhat = model.predict(X_input,verbose = 0)\n",
    "\n",
    "        temp_input.extend(yhat[0].tolist())\n",
    "\n",
    "        lst_output.extend(yhat.tolist())\n",
    "        i+=1\n",
    "\n",
    "print(lst_output)"
   ]
  },
  {
   "cell_type": "code",
   "execution_count": 88,
   "metadata": {},
   "outputs": [
    {
     "data": {
      "text/plain": [
       "[0.6076023578643799]"
      ]
     },
     "execution_count": 88,
     "metadata": {},
     "output_type": "execute_result"
    }
   ],
   "source": [
    "lst_output[2]"
   ]
  },
  {
   "cell_type": "code",
   "execution_count": 89,
   "metadata": {},
   "outputs": [],
   "source": [
    "day_new = np.arange(1,101)\n",
    "day_pred = np.arange(101,131)"
   ]
  },
  {
   "cell_type": "code",
   "execution_count": 90,
   "metadata": {},
   "outputs": [
    {
     "data": {
      "text/plain": [
       "1258"
      ]
     },
     "execution_count": 90,
     "metadata": {},
     "output_type": "execute_result"
    }
   ],
   "source": [
    "len(df1)"
   ]
  },
  {
   "cell_type": "code",
   "execution_count": 91,
   "metadata": {},
   "outputs": [],
   "source": [
    "df3 = df1.tolist()\n",
    "df3.extend(lst_output)"
   ]
  },
  {
   "cell_type": "code",
   "execution_count": 92,
   "metadata": {},
   "outputs": [
    {
     "data": {
      "text/plain": [
       "[<matplotlib.lines.Line2D at 0x7caa467eade0>]"
      ]
     },
     "execution_count": 92,
     "metadata": {},
     "output_type": "execute_result"
    },
    {
     "data": {
      "image/png": "[encoded data removed]",
      "text/plain": [
       "<Figure size 640x480 with 1 Axes>"
      ]
     },
     "metadata": {},
     "output_type": "display_data"
    }
   ],
   "source": [
    "plt.plot(day_new,scaler.inverse_transform(df1[1158:]))\n",
    "plt.plot(day_pred,scaler.inverse_transform(lst_output))"
   ]
  },
  {
   "cell_type": "code",
   "execution_count": 93,
   "metadata": {},
   "outputs": [
    {
     "data": {
      "text/plain": [
       "[<matplotlib.lines.Line2D at 0x7caa467a9670>]"
      ]
     },
     "execution_count": 93,
     "metadata": {},
     "output_type": "execute_result"
    },
    {
     "data": {
      "image/png": "[encoded data removed]",
      "text/plain": [
       "<Figure size 640x480 with 1 Axes>"
      ]
     },
     "metadata": {},
     "output_type": "display_data"
    }
   ],
   "source": [
    "df3 = df1.tolist()\n",
    "df3.extend(lst_output)\n",
    "plt.plot(df3[1100:])"
   ]
  },
  {
   "cell_type": "code",
   "execution_count": null,
   "metadata": {},
   "outputs": [],
   "source": []
  }
 ],
 "metadata": {
  "kernelspec": {
   "display_name": ".venv_tf",
   "language": "python",
   "name": "python3"
  },
  "language_info": {
   "codemirror_mode": {
    "name": "ipython",
    "version": 3
   },
   "file_extension": ".py",
   "mimetype": "text/x-python",
   "name": "python",
   "nbconvert_exporter": "python",
   "pygments_lexer": "ipython3",
   "version": "3.12.9"
  }
 },
 "nbformat": 4,
 "nbformat_minor": 2
}
